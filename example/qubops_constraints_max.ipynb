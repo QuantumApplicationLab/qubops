{
    "cells": [
        {
            "cell_type": "markdown",
            "metadata": {
                "tags": [
                    "remove_cell"
                ]
            },
            "source": [
                "# Mixed Discrete - Continuous optimization\n",
                "\n",
                "Mixed discrete-continuous optimization occurs in a variety of scientific and engineering fields. In these optimization one usually wants to solve a set of non linear equations using continuous varialbles that are subjected to some parameters usually defined as a set of possible discrete values. The problem usually consists of solving the continuous equation while minimizing a cost function related to the discrete variables while ensuring some propoerties of the continuout variables.\n",
                "\n",
                "For example one wants to solve hydraudynamic equation of a wing, while minimizing its cost but ensuring that the overall drag is above a certain thereshold. [find better example]\n",
                "\n",
                "To illustrate this problem class and how to solve them using a QUBO let's consider the following set of non-linear of equations:"
            ]
        },
        {
            "cell_type": "markdown",
            "metadata": {},
            "source": [
                "$$\n",
                "-1 - x_0 + x_1 = 0 \\\\\n",
                " 1 - x_1 = 0 \\\\\n",
                " 2 - q x_0^2 - x_2 = 0 \\\\\n",
                " -p x_1^2 + x_2 - x_3 = 0 \n",
                "$$\n",
                "\n",
                "Where $x_i$ are continuous variables and $p$ and $q$ are discrete parameters.\n",
                "\n",
                "The goal is for example to find valied solutions of this system reprented by values of the $x_i$ variables while minimizing the sum $p+q$ but making sure that the values of $x_3$ is within a certain range. \n",
                "\n",
                "Let's first start by exploring classicaly this toy problem. We first need to define a function that returns the solution of the problem for a ginve input and parameter values. (We assume here tha `parameters` is a global variable)"
            ]
        },
        {
            "cell_type": "code",
            "execution_count": 1,
            "metadata": {},
            "outputs": [],
            "source": [
                "import numpy as np\n",
                "\n",
                "def nlfunc(input):\n",
                "    x0,x1,x2,x3 = input\n",
                "    q, p = parameters\n",
                "\n",
                "    def f0():\n",
                "        return -1 - x0 + x1\n",
                "    \n",
                "    def f1():\n",
                "        return 1 - x1\n",
                "    \n",
                "    def f2():\n",
                "        return 2  - q*x0**2  - x2\n",
                "\n",
                "    def f3():\n",
                "        return -p*x1**2 + x2 - x3\n",
                "    \n",
                "    return np.array([f0(), f1(), f2(), f3()])\n",
                "\n"
            ]
        },
        {
            "cell_type": "markdown",
            "metadata": {},
            "source": [
                "## Classical Solution\n",
                "\n",
                "We can solve the problem for every combination of $p$ and $q$ values. We assume that $p$ and $q$ can take the values: 0,1, 2 or 3."
            ]
        },
        {
            "cell_type": "code",
            "execution_count": 2,
            "metadata": {},
            "outputs": [
                {
                    "name": "stdout",
                    "output_type": "stream",
                    "text": [
                        "[0, 0] [-4.85753346e-17  1.00000000e+00  2.00000000e+00  2.00000000e+00]\n",
                        "[0, 1] [-4.85713275e-17  1.00000000e+00  2.00000000e+00  1.00000000e+00]\n",
                        "[0, 2] [-1.73437802e-21  1.00000000e+00  2.00000000e+00  3.39173134e-14]\n",
                        "[0, 3] [-1.15647772e-16  1.00000000e+00  2.00000000e+00 -1.00000000e+00]\n",
                        "[1, 0] [1.95363259e-21 1.00000000e+00 2.00000000e+00 2.00000000e+00]\n",
                        "[1, 1] [1.11021259e-16 1.00000000e+00 2.00000000e+00 1.00000000e+00]\n",
                        "[1, 2] [ 8.32695877e-17  1.00000000e+00  2.00000000e+00 -2.57160959e-11]\n",
                        "[1, 3] [ 9.25152063e-18  1.00000000e+00  2.00000000e+00 -1.00000000e+00]\n",
                        "[2, 0] [-1.11021998e-16  1.00000000e+00  2.00000000e+00  2.00000000e+00]\n",
                        "[2, 1] [1.11021846e-16 1.00000000e+00 2.00000000e+00 1.00000000e+00]\n",
                        "[2, 2] [-5.55102610e-17  1.00000000e+00  2.00000000e+00 -2.14738227e-11]\n",
                        "[2, 3] [-3.70059129e-17  1.00000000e+00  2.00000000e+00 -1.00000000e+00]\n",
                        "[3, 0] [2.07888583e-21 1.00000000e+00 2.00000000e+00 2.00000000e+00]\n",
                        "[3, 1] [1.11023674e-16 1.00000000e+00 2.00000000e+00 1.00000000e+00]\n",
                        "[3, 2] [2.7754906e-17 1.0000000e+00 2.0000000e+00 0.0000000e+00]\n",
                        "[3, 3] [ 7.40181228e-17  1.00000000e+00  2.00000000e+00 -1.00000000e+00]\n"
                    ]
                },
                {
                    "name": "stderr",
                    "output_type": "stream",
                    "text": [
                        "/home/nico/QuantumApplicationLab/QuantumNewtonRaphson/quantum_newton_raphson/utils.py:74: SparseEfficiencyWarning: spsolve requires A be CSC or CSR matrix format\n",
                        "  warn(\"spsolve requires A be CSC or CSR matrix format\", SparseEfficiencyWarning)\n"
                    ]
                }
            ],
            "source": [
                "from quantum_newton_raphson.newton_raphson import newton_raphson\n",
                "\n",
                "parameters_list = [[i, j] for i in range(4) for j in range(4)] \n",
                "\n",
                "for parameters in parameters_list:\n",
                "    initial_point = np.random.rand(4)\n",
                "    res = newton_raphson(nlfunc, initial_point)\n",
                "    assert np.allclose(nlfunc(res.solution), 0)\n",
                "    print(parameters, res.solution)"
            ]
        },
        {
            "cell_type": "markdown",
            "metadata": {},
            "source": [
                "# QUBO Solution with constraints on the parameters.\n",
                "\n",
                "We have explained in the previous notebook how to solve polynomial system of equations using QUBO. Here we not only want to solve the equation but also find the solution that corresponds to for example the maximal value of $p+q$. We therefore extand the system of equations with an additional equation: \n",
                "\n",
                "$$\n",
                "-1 - x_0 + x_1 = 0 \\\\\n",
                " 1 - x_1 = 0 \\\\\n",
                " 2 - q x_0^2 - x_2 = 0 \\\\\n",
                " -p x_1^2 + x_2 - x_3 = 0 \\\\\n",
                " c(M - q - p) \\rightarrow 0 \n",
                "$$\n",
                "\n",
                "The last equation corresponds to the minimization of the sum  $p+q$. The constant $c$ is a weight toadjust the relative importance of the last equation wrt the other four. $M$ is the maximal value that can take $p+q$. We now that upfront since the variables $p$ and $q$ can only take the values: 0, 1, 2,3, and therefore $M=6$.\n",
                "\n",
                "As for the simple polynomial case we need to create the matrices of this polynomial system. This is done as below:"
            ]
        },
        {
            "cell_type": "code",
            "execution_count": 24,
            "metadata": {},
            "outputs": [],
            "source": [
                "import numpy as np\n",
                "import sparse\n",
                "def define_matrices():\n",
                "    \n",
                "    # system of equations\n",
                "    num_equations = 5\n",
                "    num_variables = 6\n",
                "\n",
                "    c = 0.5*1E-1\n",
                "    M = 6\n",
                "\n",
                "    P0 = np.zeros((num_equations,1))\n",
                "    P0[0] = -1\n",
                "    P0[1] = 1\n",
                "    P0[2] = 2\n",
                "    P0[3] = 0\n",
                "    P0[4] = c*M\n",
                "\n",
                "    P1 = np.zeros((num_equations, num_variables))\n",
                "    P1[0, 0] = -1\n",
                "    P1[0, 1] =  1\n",
                "\n",
                "    P1[1, 1] = -1\n",
                "\n",
                "    P1[2, 2] = -1\n",
                "\n",
                "    P1[3, 2] =  1 \n",
                "    P1[3, 3] = -1\n",
                "\n",
                "    # cost\n",
                "    P1[4,4] = -c\n",
                "    P1[4,5] = -c\n",
                "   \n",
                "\n",
                "    P2 = np.zeros((num_equations, num_variables, num_variables))\n",
                "\n",
                "\n",
                "    P3 = np.zeros((num_equations, num_variables, num_variables, num_variables))\n",
                "    P3[2, 0, 0, 4] = -1\n",
                "    P3[3, 1, 1, 5] = -1\n",
                "\n",
                "\n",
                "    return sparse.COO(P0), sparse.COO(P1), sparse.COO(P2), sparse.COO(P3)\n",
                "\n",
                "matrices = define_matrices()"
            ]
        },
        {
            "cell_type": "markdown",
            "metadata": {},
            "source": [
                "To solve he problem we first need to encode the different variables in a series if qubits."
            ]
        },
        {
            "cell_type": "code",
            "execution_count": 25,
            "metadata": {},
            "outputs": [],
            "source": [
                "from qubops.encodings import PositiveQbitEncoding\n",
                "from qubops.solution_vector import SolutionVector_V2 as SolutionVector\n",
                "from qubops.mixed_solution_vector import MixedSolutionVector_V2 as MixedSolutionVector\n",
                "\n",
                "\n",
                "# define the encoding for the first four varialbes (x0, x1, x2, x3)\n",
                "nqbit = 2\n",
                "step = 1\n",
                "encoding1 = PositiveQbitEncoding(nqbit = nqbit, step=step, offset=-1, var_base_name='x')\n",
                "sol_vec1 = SolutionVector(4, encoding=encoding1)\n",
                "\n",
                "# define the encoding for the last two variables (p, q)\n",
                "nqbit = 2\n",
                "step = 1\n",
                "encoding2 = PositiveQbitEncoding(nqbit = nqbit, step=step, offset=0, var_base_name='x')\n",
                "sol_vec2 = SolutionVector(2, encoding=encoding2)\n",
                "\n",
                "# define the solution vector\n",
                "sol_vec = MixedSolutionVector([sol_vec1,sol_vec2])"
            ]
        },
        {
            "cell_type": "markdown",
            "metadata": {},
            "source": [
                "The endoding for the continuous varialbes can take the following values: "
            ]
        },
        {
            "cell_type": "code",
            "execution_count": 26,
            "metadata": {},
            "outputs": [
                {
                    "data": {
                        "text/plain": [
                            "array([-1,  0,  1,  2])"
                        ]
                    },
                    "execution_count": 26,
                    "metadata": {},
                    "output_type": "execute_result"
                }
            ],
            "source": [
                "np.sort(encoding1.get_possible_values())"
            ]
        },
        {
            "cell_type": "markdown",
            "metadata": {},
            "source": [
                "While the encoding for the discrete variales can take the values:"
            ]
        },
        {
            "cell_type": "code",
            "execution_count": 27,
            "metadata": {},
            "outputs": [
                {
                    "data": {
                        "text/plain": [
                            "array([0, 1, 2, 3])"
                        ]
                    },
                    "execution_count": 27,
                    "metadata": {},
                    "output_type": "execute_result"
                }
            ],
            "source": [
                "np.sort(encoding2.get_possible_values())"
            ]
        },
        {
            "cell_type": "markdown",
            "metadata": {},
            "source": [
                "We can now solve the problem"
            ]
        },
        {
            "cell_type": "code",
            "execution_count": 28,
            "metadata": {},
            "outputs": [
                {
                    "data": {
                        "text/plain": [
                            "[[0, 1, 2, -1], [3, 3]]"
                        ]
                    },
                    "execution_count": 28,
                    "metadata": {},
                    "output_type": "execute_result"
                }
            ],
            "source": [
                "from dwave.samplers import SteepestDescentSolver\n",
                "from qubops.qubops_mixed_vars import QUBOPS_MIXED\n",
                "options = {'num_reads':1000, 'sampler':SteepestDescentSolver()}\n",
                "qubops = QUBOPS_MIXED(sol_vec, options)\n",
                "\n",
                "sol = qubops.solve(matrices)\n",
                "sol"
            ]
        },
        {
            "cell_type": "markdown",
            "metadata": {},
            "source": [
                "The solver finds the correct solution $[0,1,2,-1]$ that corresponds to the minimum value of the sum $p+q=6$"
            ]
        },
        {
            "cell_type": "markdown",
            "metadata": {},
            "source": [
                "# QUBO Solution with constraints on the parameters and on the solution.\n",
                "\n",
                "We can now introduce a restriction on the acceptable values of some of the solution elements. We for example could specify that the value of $x_3$ should be between 0 and 1. We then wants to solve the non-linear system, while maximizing $p+q$ and ensuring that $1\\leq x_3 \\leq 2$. \n",
                "\n",
                "As we can see from the classical exploration of all the solution above, the explected solution is therefore $[0,1,2,0]$ obtaind for $p=3$ and $q=2$.\n",
                "\n",
                "Such constraints can  included in the QUBO model as an additional penalty term of the QUBO cost function.    "
            ]
        },
        {
            "cell_type": "code",
            "execution_count": 56,
            "metadata": {},
            "outputs": [],
            "source": [
                "qubops = QUBOPS_MIXED(sol_vec, options)\n",
                "bqm = qubops.create_bqm(matrices, strength=1E4)\n",
                "slacks1 = bqm.add_linear_inequality_constraint(qubops.all_expr[3], lagrange_multiplier=1, label=\"const\", lb=1, ub=2)"
            ]
        },
        {
            "cell_type": "code",
            "execution_count": 57,
            "metadata": {},
            "outputs": [],
            "source": [
                "sampleset = qubops.sample_bqm(bqm, num_reads=1000)"
            ]
        },
        {
            "cell_type": "code",
            "execution_count": 58,
            "metadata": {},
            "outputs": [
                {
                    "data": {
                        "text/plain": [
                            "[[0, 1, 2, 0], [3, 2]]"
                        ]
                    },
                    "execution_count": 58,
                    "metadata": {},
                    "output_type": "execute_result"
                }
            ],
            "source": [
                "slowest_sol = sampleset.lowest()\n",
                "sol = qubops.decode_solution(slowest_sol.record[0][0])\n",
                "sol"
            ]
        },
        {
            "cell_type": "code",
            "execution_count": null,
            "metadata": {},
            "outputs": [],
            "source": []
        }
    ],
    "metadata": {
        "kernelspec": {
            "display_name": "Python 3.8.0 ('qubops')",
            "language": "python",
            "name": "python3"
        },
        "language_info": {
            "codemirror_mode": {
                "name": "ipython",
                "version": 3
            },
            "file_extension": ".py",
            "mimetype": "text/x-python",
            "name": "python",
            "nbconvert_exporter": "python",
            "pygments_lexer": "ipython3",
            "version": "3.9.0"
        },
        "vscode": {
            "interpreter": {
                "hash": "390591a6667b05d6f83558ed597f55be1305d4de992db830679d199a6a0e520c"
            }
        },
        "widgets": {
            "application/vnd.jupyter.widget-state+json": {
                "state": {
                    "17046f96803d48aa8c63b99a5c89e6f3": {
                        "model_module": "@jupyter-widgets/controls",
                        "model_module_version": "1.5.0",
                        "model_name": "DescriptionStyleModel",
                        "state": {
                            "_model_module": "@jupyter-widgets/controls",
                            "_model_module_version": "1.5.0",
                            "_model_name": "DescriptionStyleModel",
                            "_view_count": null,
                            "_view_module": "@jupyter-widgets/base",
                            "_view_module_version": "1.2.0",
                            "_view_name": "StyleView",
                            "description_width": ""
                        }
                    },
                    "1a46e33438a648dd839fe5fd43b9582b": {
                        "model_module": "@jupyter-widgets/controls",
                        "model_module_version": "1.5.0",
                        "model_name": "DescriptionStyleModel",
                        "state": {
                            "_model_module": "@jupyter-widgets/controls",
                            "_model_module_version": "1.5.0",
                            "_model_name": "DescriptionStyleModel",
                            "_view_count": null,
                            "_view_module": "@jupyter-widgets/base",
                            "_view_module_version": "1.2.0",
                            "_view_name": "StyleView",
                            "description_width": ""
                        }
                    },
                    "1f812fe9a02b41b885f01e3190957acf": {
                        "model_module": "@jupyter-widgets/base",
                        "model_module_version": "1.2.0",
                        "model_name": "LayoutModel",
                        "state": {
                            "_model_module": "@jupyter-widgets/base",
                            "_model_module_version": "1.2.0",
                            "_model_name": "LayoutModel",
                            "_view_count": null,
                            "_view_module": "@jupyter-widgets/base",
                            "_view_module_version": "1.2.0",
                            "_view_name": "LayoutView",
                            "align_content": null,
                            "align_items": null,
                            "align_self": null,
                            "border": null,
                            "bottom": null,
                            "display": null,
                            "flex": null,
                            "flex_flow": null,
                            "grid_area": null,
                            "grid_auto_columns": null,
                            "grid_auto_flow": null,
                            "grid_auto_rows": null,
                            "grid_column": null,
                            "grid_gap": null,
                            "grid_row": null,
                            "grid_template_areas": "\n                                       \". . . . right \"\n                                        ",
                            "grid_template_columns": "20% 20% 20% 20% 20%",
                            "grid_template_rows": null,
                            "height": null,
                            "justify_content": null,
                            "justify_items": null,
                            "left": null,
                            "margin": null,
                            "max_height": null,
                            "max_width": null,
                            "min_height": null,
                            "min_width": null,
                            "object_fit": null,
                            "object_position": null,
                            "order": null,
                            "overflow": null,
                            "overflow_x": null,
                            "overflow_y": null,
                            "padding": null,
                            "right": null,
                            "top": null,
                            "visibility": null,
                            "width": "100%"
                        }
                    },
                    "20439ee3a84741dc9a137f7964898fc3": {
                        "model_module": "@jupyter-widgets/controls",
                        "model_module_version": "1.5.0",
                        "model_name": "HTMLModel",
                        "state": {
                            "_dom_classes": [],
                            "_model_module": "@jupyter-widgets/controls",
                            "_model_module_version": "1.5.0",
                            "_model_name": "HTMLModel",
                            "_view_count": null,
                            "_view_module": "@jupyter-widgets/controls",
                            "_view_module_version": "1.5.0",
                            "_view_name": "HTMLView",
                            "description": "",
                            "description_tooltip": null,
                            "layout": "IPY_MODEL_f0e6a746eff140269e915ef65de640c7",
                            "placeholder": "​",
                            "style": "IPY_MODEL_96316857896d44328b3898d849594ae7",
                            "value": "<h5>Status</h5>"
                        }
                    },
                    "246d39f98fdb4892bc1d5bfb88d2f1cd": {
                        "model_module": "@jupyter-widgets/controls",
                        "model_module_version": "1.5.0",
                        "model_name": "DescriptionStyleModel",
                        "state": {
                            "_model_module": "@jupyter-widgets/controls",
                            "_model_module_version": "1.5.0",
                            "_model_name": "DescriptionStyleModel",
                            "_view_count": null,
                            "_view_module": "@jupyter-widgets/base",
                            "_view_module_version": "1.2.0",
                            "_view_name": "StyleView",
                            "description_width": ""
                        }
                    },
                    "27e0478b2a9c4533b2e67eac937cbebc": {
                        "model_module": "@jupyter-widgets/controls",
                        "model_module_version": "1.5.0",
                        "model_name": "HBoxModel",
                        "state": {
                            "_dom_classes": [],
                            "_model_module": "@jupyter-widgets/controls",
                            "_model_module_version": "1.5.0",
                            "_model_name": "HBoxModel",
                            "_view_count": null,
                            "_view_module": "@jupyter-widgets/controls",
                            "_view_module_version": "1.5.0",
                            "_view_name": "HBoxView",
                            "box_style": "",
                            "children": [
                                "IPY_MODEL_ac5a0f78ef8140a2abdf035fd1751936",
                                "IPY_MODEL_5ff6f36eaa894a339210fc29fdbeedcf",
                                "IPY_MODEL_20439ee3a84741dc9a137f7964898fc3",
                                "IPY_MODEL_eef64edafd8f47c885da65fa3ca0ab8a",
                                "IPY_MODEL_a38db3ffdfc848c0b0150e42b3509be5"
                            ],
                            "layout": "IPY_MODEL_fc018f99fbb44aa9beb54a8e6be5209e"
                        }
                    },
                    "2f981df37e914685992f4564103ef872": {
                        "model_module": "@jupyter-widgets/base",
                        "model_module_version": "1.2.0",
                        "model_name": "LayoutModel",
                        "state": {
                            "_model_module": "@jupyter-widgets/base",
                            "_model_module_version": "1.2.0",
                            "_model_name": "LayoutModel",
                            "_view_count": null,
                            "_view_module": "@jupyter-widgets/base",
                            "_view_module_version": "1.2.0",
                            "_view_name": "LayoutView",
                            "align_content": null,
                            "align_items": null,
                            "align_self": null,
                            "border": null,
                            "bottom": null,
                            "display": null,
                            "flex": null,
                            "flex_flow": null,
                            "grid_area": null,
                            "grid_auto_columns": null,
                            "grid_auto_flow": null,
                            "grid_auto_rows": null,
                            "grid_column": null,
                            "grid_gap": null,
                            "grid_row": null,
                            "grid_template_areas": null,
                            "grid_template_columns": null,
                            "grid_template_rows": null,
                            "height": null,
                            "justify_content": null,
                            "justify_items": null,
                            "left": null,
                            "margin": null,
                            "max_height": null,
                            "max_width": null,
                            "min_height": null,
                            "min_width": null,
                            "object_fit": null,
                            "object_position": null,
                            "order": null,
                            "overflow": null,
                            "overflow_x": null,
                            "overflow_y": null,
                            "padding": null,
                            "right": null,
                            "top": null,
                            "visibility": null,
                            "width": null
                        }
                    },
                    "3aa67247d1a9433f87b13ce1370c8b1c": {
                        "model_module": "@jupyter-widgets/base",
                        "model_module_version": "1.2.0",
                        "model_name": "LayoutModel",
                        "state": {
                            "_model_module": "@jupyter-widgets/base",
                            "_model_module_version": "1.2.0",
                            "_model_name": "LayoutModel",
                            "_view_count": null,
                            "_view_module": "@jupyter-widgets/base",
                            "_view_module_version": "1.2.0",
                            "_view_name": "LayoutView",
                            "align_content": null,
                            "align_items": null,
                            "align_self": null,
                            "border": null,
                            "bottom": null,
                            "display": null,
                            "flex": null,
                            "flex_flow": null,
                            "grid_area": null,
                            "grid_auto_columns": null,
                            "grid_auto_flow": null,
                            "grid_auto_rows": null,
                            "grid_column": null,
                            "grid_gap": null,
                            "grid_row": null,
                            "grid_template_areas": null,
                            "grid_template_columns": null,
                            "grid_template_rows": null,
                            "height": null,
                            "justify_content": null,
                            "justify_items": null,
                            "left": null,
                            "margin": null,
                            "max_height": null,
                            "max_width": null,
                            "min_height": null,
                            "min_width": null,
                            "object_fit": null,
                            "object_position": null,
                            "order": null,
                            "overflow": null,
                            "overflow_x": null,
                            "overflow_y": null,
                            "padding": null,
                            "right": null,
                            "top": null,
                            "visibility": null,
                            "width": "190px"
                        }
                    },
                    "40a8f99fef5b4aad89f533edcb091c3f": {
                        "model_module": "@jupyter-widgets/controls",
                        "model_module_version": "1.5.0",
                        "model_name": "ButtonStyleModel",
                        "state": {
                            "_model_module": "@jupyter-widgets/controls",
                            "_model_module_version": "1.5.0",
                            "_model_name": "ButtonStyleModel",
                            "_view_count": null,
                            "_view_module": "@jupyter-widgets/base",
                            "_view_module_version": "1.2.0",
                            "_view_name": "StyleView",
                            "button_color": null,
                            "font_weight": ""
                        }
                    },
                    "46f75da5f7ab4f33b4df8618ccffde6b": {
                        "model_module": "@jupyter-widgets/controls",
                        "model_module_version": "1.5.0",
                        "model_name": "DescriptionStyleModel",
                        "state": {
                            "_model_module": "@jupyter-widgets/controls",
                            "_model_module_version": "1.5.0",
                            "_model_name": "DescriptionStyleModel",
                            "_view_count": null,
                            "_view_module": "@jupyter-widgets/base",
                            "_view_module_version": "1.2.0",
                            "_view_name": "StyleView",
                            "description_width": ""
                        }
                    },
                    "5ff6f36eaa894a339210fc29fdbeedcf": {
                        "model_module": "@jupyter-widgets/controls",
                        "model_module_version": "1.5.0",
                        "model_name": "HTMLModel",
                        "state": {
                            "_dom_classes": [],
                            "_model_module": "@jupyter-widgets/controls",
                            "_model_module_version": "1.5.0",
                            "_model_name": "HTMLModel",
                            "_view_count": null,
                            "_view_module": "@jupyter-widgets/controls",
                            "_view_module_version": "1.5.0",
                            "_view_name": "HTMLView",
                            "description": "",
                            "description_tooltip": null,
                            "layout": "IPY_MODEL_9e036ff6f31e4efb9471d371db06f533",
                            "placeholder": "​",
                            "style": "IPY_MODEL_1a46e33438a648dd839fe5fd43b9582b",
                            "value": "<h5>Backend</h5>"
                        }
                    },
                    "608e06da96f840e890006ad286afc34b": {
                        "model_module": "@jupyter-widgets/controls",
                        "model_module_version": "1.5.0",
                        "model_name": "HTMLModel",
                        "state": {
                            "_dom_classes": [],
                            "_model_module": "@jupyter-widgets/controls",
                            "_model_module_version": "1.5.0",
                            "_model_name": "HTMLModel",
                            "_view_count": null,
                            "_view_module": "@jupyter-widgets/controls",
                            "_view_module_version": "1.5.0",
                            "_view_name": "HTMLView",
                            "description": "",
                            "description_tooltip": null,
                            "layout": "IPY_MODEL_74038cd5fbe8491ba5457f6cc81f7b5a",
                            "placeholder": "​",
                            "style": "IPY_MODEL_8569084253df4279b752a85c0b99027b",
                            "value": "<p style='font-family: IBM Plex Sans, Arial, Helvetica, sans-serif; font-size: 20px; font-weight: medium;'>Circuit Properties</p>"
                        }
                    },
                    "74038cd5fbe8491ba5457f6cc81f7b5a": {
                        "model_module": "@jupyter-widgets/base",
                        "model_module_version": "1.2.0",
                        "model_name": "LayoutModel",
                        "state": {
                            "_model_module": "@jupyter-widgets/base",
                            "_model_module_version": "1.2.0",
                            "_model_name": "LayoutModel",
                            "_view_count": null,
                            "_view_module": "@jupyter-widgets/base",
                            "_view_module_version": "1.2.0",
                            "_view_name": "LayoutView",
                            "align_content": null,
                            "align_items": null,
                            "align_self": null,
                            "border": null,
                            "bottom": null,
                            "display": null,
                            "flex": null,
                            "flex_flow": null,
                            "grid_area": null,
                            "grid_auto_columns": null,
                            "grid_auto_flow": null,
                            "grid_auto_rows": null,
                            "grid_column": null,
                            "grid_gap": null,
                            "grid_row": null,
                            "grid_template_areas": null,
                            "grid_template_columns": null,
                            "grid_template_rows": null,
                            "height": null,
                            "justify_content": null,
                            "justify_items": null,
                            "left": null,
                            "margin": "0px 0px 10px 0px",
                            "max_height": null,
                            "max_width": null,
                            "min_height": null,
                            "min_width": null,
                            "object_fit": null,
                            "object_position": null,
                            "order": null,
                            "overflow": null,
                            "overflow_x": null,
                            "overflow_y": null,
                            "padding": null,
                            "right": null,
                            "top": null,
                            "visibility": null,
                            "width": null
                        }
                    },
                    "8569084253df4279b752a85c0b99027b": {
                        "model_module": "@jupyter-widgets/controls",
                        "model_module_version": "1.5.0",
                        "model_name": "DescriptionStyleModel",
                        "state": {
                            "_model_module": "@jupyter-widgets/controls",
                            "_model_module_version": "1.5.0",
                            "_model_name": "DescriptionStyleModel",
                            "_view_count": null,
                            "_view_module": "@jupyter-widgets/base",
                            "_view_module_version": "1.2.0",
                            "_view_name": "StyleView",
                            "description_width": ""
                        }
                    },
                    "917c693fd8d84f2e99f59d75cd5062c2": {
                        "model_module": "@jupyter-widgets/controls",
                        "model_module_version": "1.5.0",
                        "model_name": "GridBoxModel",
                        "state": {
                            "_dom_classes": [],
                            "_model_module": "@jupyter-widgets/controls",
                            "_model_module_version": "1.5.0",
                            "_model_name": "GridBoxModel",
                            "_view_count": null,
                            "_view_module": "@jupyter-widgets/controls",
                            "_view_module_version": "1.5.0",
                            "_view_name": "GridBoxView",
                            "box_style": "",
                            "children": [
                                "IPY_MODEL_b7e87c3bbc404502ab1550d64f86c473"
                            ],
                            "layout": "IPY_MODEL_1f812fe9a02b41b885f01e3190957acf"
                        }
                    },
                    "96316857896d44328b3898d849594ae7": {
                        "model_module": "@jupyter-widgets/controls",
                        "model_module_version": "1.5.0",
                        "model_name": "DescriptionStyleModel",
                        "state": {
                            "_model_module": "@jupyter-widgets/controls",
                            "_model_module_version": "1.5.0",
                            "_model_name": "DescriptionStyleModel",
                            "_view_count": null,
                            "_view_module": "@jupyter-widgets/base",
                            "_view_module_version": "1.2.0",
                            "_view_name": "StyleView",
                            "description_width": ""
                        }
                    },
                    "9e036ff6f31e4efb9471d371db06f533": {
                        "model_module": "@jupyter-widgets/base",
                        "model_module_version": "1.2.0",
                        "model_name": "LayoutModel",
                        "state": {
                            "_model_module": "@jupyter-widgets/base",
                            "_model_module_version": "1.2.0",
                            "_model_name": "LayoutModel",
                            "_view_count": null,
                            "_view_module": "@jupyter-widgets/base",
                            "_view_module_version": "1.2.0",
                            "_view_name": "LayoutView",
                            "align_content": null,
                            "align_items": null,
                            "align_self": null,
                            "border": null,
                            "bottom": null,
                            "display": null,
                            "flex": null,
                            "flex_flow": null,
                            "grid_area": null,
                            "grid_auto_columns": null,
                            "grid_auto_flow": null,
                            "grid_auto_rows": null,
                            "grid_column": null,
                            "grid_gap": null,
                            "grid_row": null,
                            "grid_template_areas": null,
                            "grid_template_columns": null,
                            "grid_template_rows": null,
                            "height": null,
                            "justify_content": null,
                            "justify_items": null,
                            "left": null,
                            "margin": null,
                            "max_height": null,
                            "max_width": null,
                            "min_height": null,
                            "min_width": null,
                            "object_fit": null,
                            "object_position": null,
                            "order": null,
                            "overflow": null,
                            "overflow_x": null,
                            "overflow_y": null,
                            "padding": null,
                            "right": null,
                            "top": null,
                            "visibility": null,
                            "width": "145px"
                        }
                    },
                    "a38db3ffdfc848c0b0150e42b3509be5": {
                        "model_module": "@jupyter-widgets/controls",
                        "model_module_version": "1.5.0",
                        "model_name": "HTMLModel",
                        "state": {
                            "_dom_classes": [],
                            "_model_module": "@jupyter-widgets/controls",
                            "_model_module_version": "1.5.0",
                            "_model_name": "HTMLModel",
                            "_view_count": null,
                            "_view_module": "@jupyter-widgets/controls",
                            "_view_module_version": "1.5.0",
                            "_view_name": "HTMLView",
                            "description": "",
                            "description_tooltip": null,
                            "layout": "IPY_MODEL_2f981df37e914685992f4564103ef872",
                            "placeholder": "​",
                            "style": "IPY_MODEL_246d39f98fdb4892bc1d5bfb88d2f1cd",
                            "value": "<h5>Message</h5>"
                        }
                    },
                    "ac5a0f78ef8140a2abdf035fd1751936": {
                        "model_module": "@jupyter-widgets/controls",
                        "model_module_version": "1.5.0",
                        "model_name": "HTMLModel",
                        "state": {
                            "_dom_classes": [],
                            "_model_module": "@jupyter-widgets/controls",
                            "_model_module_version": "1.5.0",
                            "_model_name": "HTMLModel",
                            "_view_count": null,
                            "_view_module": "@jupyter-widgets/controls",
                            "_view_module_version": "1.5.0",
                            "_view_name": "HTMLView",
                            "description": "",
                            "description_tooltip": null,
                            "layout": "IPY_MODEL_3aa67247d1a9433f87b13ce1370c8b1c",
                            "placeholder": "​",
                            "style": "IPY_MODEL_46f75da5f7ab4f33b4df8618ccffde6b",
                            "value": "<h5>Job ID</h5>"
                        }
                    },
                    "b7e87c3bbc404502ab1550d64f86c473": {
                        "model_module": "@jupyter-widgets/controls",
                        "model_module_version": "1.5.0",
                        "model_name": "ButtonModel",
                        "state": {
                            "_dom_classes": [],
                            "_model_module": "@jupyter-widgets/controls",
                            "_model_module_version": "1.5.0",
                            "_model_name": "ButtonModel",
                            "_view_count": null,
                            "_view_module": "@jupyter-widgets/controls",
                            "_view_module_version": "1.5.0",
                            "_view_name": "ButtonView",
                            "button_style": "primary",
                            "description": "Clear",
                            "disabled": false,
                            "icon": "",
                            "layout": "IPY_MODEL_f6a39516121743099bece32bc0c3c696",
                            "style": "IPY_MODEL_40a8f99fef5b4aad89f533edcb091c3f",
                            "tooltip": ""
                        }
                    },
                    "eef64edafd8f47c885da65fa3ca0ab8a": {
                        "model_module": "@jupyter-widgets/controls",
                        "model_module_version": "1.5.0",
                        "model_name": "HTMLModel",
                        "state": {
                            "_dom_classes": [],
                            "_model_module": "@jupyter-widgets/controls",
                            "_model_module_version": "1.5.0",
                            "_model_name": "HTMLModel",
                            "_view_count": null,
                            "_view_module": "@jupyter-widgets/controls",
                            "_view_module_version": "1.5.0",
                            "_view_name": "HTMLView",
                            "description": "",
                            "description_tooltip": null,
                            "layout": "IPY_MODEL_ef270ca07615429ab689824b66fdb1ff",
                            "placeholder": "​",
                            "style": "IPY_MODEL_17046f96803d48aa8c63b99a5c89e6f3",
                            "value": "<h5>Queue</h5>"
                        }
                    },
                    "ef270ca07615429ab689824b66fdb1ff": {
                        "model_module": "@jupyter-widgets/base",
                        "model_module_version": "1.2.0",
                        "model_name": "LayoutModel",
                        "state": {
                            "_model_module": "@jupyter-widgets/base",
                            "_model_module_version": "1.2.0",
                            "_model_name": "LayoutModel",
                            "_view_count": null,
                            "_view_module": "@jupyter-widgets/base",
                            "_view_module_version": "1.2.0",
                            "_view_name": "LayoutView",
                            "align_content": null,
                            "align_items": null,
                            "align_self": null,
                            "border": null,
                            "bottom": null,
                            "display": null,
                            "flex": null,
                            "flex_flow": null,
                            "grid_area": null,
                            "grid_auto_columns": null,
                            "grid_auto_flow": null,
                            "grid_auto_rows": null,
                            "grid_column": null,
                            "grid_gap": null,
                            "grid_row": null,
                            "grid_template_areas": null,
                            "grid_template_columns": null,
                            "grid_template_rows": null,
                            "height": null,
                            "justify_content": null,
                            "justify_items": null,
                            "left": null,
                            "margin": null,
                            "max_height": null,
                            "max_width": null,
                            "min_height": null,
                            "min_width": null,
                            "object_fit": null,
                            "object_position": null,
                            "order": null,
                            "overflow": null,
                            "overflow_x": null,
                            "overflow_y": null,
                            "padding": null,
                            "right": null,
                            "top": null,
                            "visibility": null,
                            "width": "70px"
                        }
                    },
                    "f0e6a746eff140269e915ef65de640c7": {
                        "model_module": "@jupyter-widgets/base",
                        "model_module_version": "1.2.0",
                        "model_name": "LayoutModel",
                        "state": {
                            "_model_module": "@jupyter-widgets/base",
                            "_model_module_version": "1.2.0",
                            "_model_name": "LayoutModel",
                            "_view_count": null,
                            "_view_module": "@jupyter-widgets/base",
                            "_view_module_version": "1.2.0",
                            "_view_name": "LayoutView",
                            "align_content": null,
                            "align_items": null,
                            "align_self": null,
                            "border": null,
                            "bottom": null,
                            "display": null,
                            "flex": null,
                            "flex_flow": null,
                            "grid_area": null,
                            "grid_auto_columns": null,
                            "grid_auto_flow": null,
                            "grid_auto_rows": null,
                            "grid_column": null,
                            "grid_gap": null,
                            "grid_row": null,
                            "grid_template_areas": null,
                            "grid_template_columns": null,
                            "grid_template_rows": null,
                            "height": null,
                            "justify_content": null,
                            "justify_items": null,
                            "left": null,
                            "margin": null,
                            "max_height": null,
                            "max_width": null,
                            "min_height": null,
                            "min_width": null,
                            "object_fit": null,
                            "object_position": null,
                            "order": null,
                            "overflow": null,
                            "overflow_x": null,
                            "overflow_y": null,
                            "padding": null,
                            "right": null,
                            "top": null,
                            "visibility": null,
                            "width": "95px"
                        }
                    },
                    "f6a39516121743099bece32bc0c3c696": {
                        "model_module": "@jupyter-widgets/base",
                        "model_module_version": "1.2.0",
                        "model_name": "LayoutModel",
                        "state": {
                            "_model_module": "@jupyter-widgets/base",
                            "_model_module_version": "1.2.0",
                            "_model_name": "LayoutModel",
                            "_view_count": null,
                            "_view_module": "@jupyter-widgets/base",
                            "_view_module_version": "1.2.0",
                            "_view_name": "LayoutView",
                            "align_content": null,
                            "align_items": null,
                            "align_self": null,
                            "border": null,
                            "bottom": null,
                            "display": null,
                            "flex": null,
                            "flex_flow": null,
                            "grid_area": "right",
                            "grid_auto_columns": null,
                            "grid_auto_flow": null,
                            "grid_auto_rows": null,
                            "grid_column": null,
                            "grid_gap": null,
                            "grid_row": null,
                            "grid_template_areas": null,
                            "grid_template_columns": null,
                            "grid_template_rows": null,
                            "height": null,
                            "justify_content": null,
                            "justify_items": null,
                            "left": null,
                            "margin": null,
                            "max_height": null,
                            "max_width": null,
                            "min_height": null,
                            "min_width": null,
                            "object_fit": null,
                            "object_position": null,
                            "order": null,
                            "overflow": null,
                            "overflow_x": null,
                            "overflow_y": null,
                            "padding": "0px 0px 0px 0px",
                            "right": null,
                            "top": null,
                            "visibility": null,
                            "width": "70px"
                        }
                    },
                    "fc018f99fbb44aa9beb54a8e6be5209e": {
                        "model_module": "@jupyter-widgets/base",
                        "model_module_version": "1.2.0",
                        "model_name": "LayoutModel",
                        "state": {
                            "_model_module": "@jupyter-widgets/base",
                            "_model_module_version": "1.2.0",
                            "_model_name": "LayoutModel",
                            "_view_count": null,
                            "_view_module": "@jupyter-widgets/base",
                            "_view_module_version": "1.2.0",
                            "_view_name": "LayoutView",
                            "align_content": null,
                            "align_items": null,
                            "align_self": null,
                            "border": null,
                            "bottom": null,
                            "display": null,
                            "flex": null,
                            "flex_flow": null,
                            "grid_area": null,
                            "grid_auto_columns": null,
                            "grid_auto_flow": null,
                            "grid_auto_rows": null,
                            "grid_column": null,
                            "grid_gap": null,
                            "grid_row": null,
                            "grid_template_areas": null,
                            "grid_template_columns": null,
                            "grid_template_rows": null,
                            "height": null,
                            "justify_content": null,
                            "justify_items": null,
                            "left": null,
                            "margin": "0px 0px 0px 37px",
                            "max_height": null,
                            "max_width": null,
                            "min_height": null,
                            "min_width": null,
                            "object_fit": null,
                            "object_position": null,
                            "order": null,
                            "overflow": null,
                            "overflow_x": null,
                            "overflow_y": null,
                            "padding": null,
                            "right": null,
                            "top": null,
                            "visibility": null,
                            "width": "600px"
                        }
                    }
                },
                "version_major": 2,
                "version_minor": 0
            }
        }
    },
    "nbformat": 4,
    "nbformat_minor": 2
}
