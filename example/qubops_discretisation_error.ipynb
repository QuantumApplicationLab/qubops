{
    "cells": [
        {
            "cell_type": "markdown",
            "metadata": {
                "tags": [
                    "remove_cell"
                ]
            },
            "source": [
                "# QUBO formulation of polynomial equation\n",
                "\n",
                "In this notebook we show how to use `QUBOPS` to solve simple non linear system of equations. We start by defining our system of equations as follows:"
            ]
        },
        {
            "cell_type": "markdown",
            "metadata": {},
            "source": [
                "$$\n",
                " 0.5 - x_0 + x_1 = 0 \\\\\n",
                " 1 - x_1 = 0 \\\\\n",
                " 3 - x_0^2 - x_2 = 0 \\\\\n",
                " -0.5 x_1^2 + x_2 - x_3 = 0 \n",
                "$$"
            ]
        },
        {
            "cell_type": "markdown",
            "metadata": {},
            "source": [
                "We have therefore 4 variables and 4 equations.\n",
                "\n",
                "## Classical Newton Raphson solution \n",
                "\n",
                "We first solve this system using a newton raphson approach. We have implemented this approach in our own package `quantum_newton_raphson` but other implementation are available. To use the newton raphson solver we need to define a function that returns the value of the non linear system for a given input. \n"
            ]
        },
        {
            "cell_type": "code",
            "execution_count": 1,
            "metadata": {},
            "outputs": [],
            "source": [
                "import numpy as np\n",
                "\n",
                "def nlfunc(input):\n",
                "    x0,x1,x2,x3 = input\n",
                "\n",
                "    def f0():\n",
                "        return 1/2 - x0 + x1\n",
                "    \n",
                "    def f1():\n",
                "        return 1 - x1\n",
                "    \n",
                "    def f2():\n",
                "        return 3  - x0**2  - x2\n",
                "\n",
                "    def f3():\n",
                "        return - 0.5*x1**2 + x2 - x3\n",
                "    \n",
                "    return np.array([f0(), f1(), f2(), f3()])"
            ]
        },
        {
            "cell_type": "markdown",
            "metadata": {},
            "source": [
                "We can now solve the system using our own library. Note that with the default values, our quantum newton raphson library uses a purely classical approach. "
            ]
        },
        {
            "cell_type": "code",
            "execution_count": 2,
            "metadata": {},
            "outputs": [
                {
                    "name": "stderr",
                    "output_type": "stream",
                    "text": [
                        "/home/nico/QuantumApplicationLab/QuantumNewtonRaphson/quantum_newton_raphson/utils.py:74: SparseEfficiencyWarning: spsolve requires A be CSC or CSR matrix format\n",
                        "  warn(\"spsolve requires A be CSC or CSR matrix format\", SparseEfficiencyWarning)\n"
                    ]
                }
            ],
            "source": [
                "from quantum_newton_raphson.newton_raphson import newton_raphson\n",
                "\n",
                "initial_point = np.random.rand(4)\n",
                "res = newton_raphson(nlfunc, initial_point)\n",
                "assert np.allclose(nlfunc(res.solution), 0)"
            ]
        },
        {
            "cell_type": "markdown",
            "metadata": {},
            "source": [
                "The solution of the system is therefore"
            ]
        },
        {
            "cell_type": "code",
            "execution_count": 3,
            "metadata": {},
            "outputs": [
                {
                    "data": {
                        "text/plain": [
                            "array([1.5 , 1.  , 0.75, 0.25])"
                        ]
                    },
                    "execution_count": 3,
                    "metadata": {},
                    "output_type": "execute_result"
                }
            ],
            "source": [
                "ref_sol = res.solution\n",
                "ref_sol"
            ]
        },
        {
            "cell_type": "markdown",
            "metadata": {},
            "source": [
                "## Polynomial equation \n",
                "\n",
                "We first write the polynomial equation as follow (https://www.nature.com/articles/s41598-019-46729-0) \n",
                "\n",
                "$$\n",
                "F(X) = 0\n",
                "$$\n",
                "\n",
                "with\n",
                "\n",
                "$$\n",
                "F_i = P_i^{(0)} + \\sum_j P_{ij}^{(1)}x_j + \\sum_{jk} P_{ijk}^{(2)}x_j x_k  + \\sum_{jkl} P_{ijkl}^{(3)}x_j x_k x_l = 0\n",
                "$$\n",
                "\n",
                "To solve the system we minimize the residual sum of square\n",
                "\n",
                "$$\n",
                "\\chi^2 = [P^{(0)} + P^{(1)} X + P^{(2)} X^2 + P^{(3)} X^3]^2\n",
                "$$\n"
            ]
        },
        {
            "cell_type": "markdown",
            "metadata": {},
            "source": [
                "We need to define the matrices $P_{ij...}^{(n)}$ for our system of equation"
            ]
        },
        {
            "cell_type": "code",
            "execution_count": 4,
            "metadata": {},
            "outputs": [],
            "source": [
                "import sparse\n",
                "def define_matrices():\n",
                "    \n",
                "    # system of equations\n",
                "    num_equations = 4\n",
                "    num_variables = 4\n",
                "\n",
                "\n",
                "    P0 = np.zeros(num_equations)\n",
                "    P0[0] = 1/2\n",
                "    P0[1] = 1\n",
                "    P0[2] = 3\n",
                "    P0[3] = 0\n",
                "\n",
                "    P1 = np.zeros((num_equations, num_variables))\n",
                "    P1[0, 0] = -1\n",
                "    P1[0, 1] =  1\n",
                "\n",
                "    P1[1, 1] = -1\n",
                "\n",
                "    P1[2, 2] = -1\n",
                "\n",
                "    P1[3, 2] =  1\n",
                "    P1[3, 3] = -1\n",
                "   \n",
                "\n",
                "    P2 = np.zeros((num_equations, num_variables, num_variables))\n",
                "    P2[2, 0, 0] = -1\n",
                "    P2[3, 1, 1] = -1/2\n",
                "\n",
                "    return sparse.COO(P0), sparse.COO(P1), sparse.COO(P2)\n",
                "matrices = define_matrices()"
            ]
        },
        {
            "cell_type": "markdown",
            "metadata": {},
            "source": [
                "## Encoding\n",
                "\n",
                "As for any QUBO approach, we need to encode the variables we are looking for in a series of qubit. Several encodings are possible. We here decide to use differnet encodings for the first and last two variables. We also decide to use here the `SteepestDescentSampler` to be able to run that code locally. Quantum solvers are available through the Leap cloud service.\n"
            ]
        },
        {
            "cell_type": "code",
            "execution_count": 5,
            "metadata": {},
            "outputs": [],
            "source": [
                "from qubops.qubops_mixed_vars import QUBOPS_MIXED\n",
                "from qubops.encodings import PositiveQbitEncoding\n",
                "from qubops.solution_vector import SolutionVector_V2 as SolutionVector\n",
                "from qubops.mixed_solution_vector import MixedSolutionVector_V2 as MixedSolutionVector\n",
                "from dwave.samplers import SteepestDescentSolver\n",
                "\n",
                "\n",
                "# define the encoding for the first two varialbes\n",
                "nqbit = 5\n",
                "step = 0.05\n",
                "encoding1 = PositiveQbitEncoding(nqbit = nqbit, step=step, offset=0, var_base_name='x')\n",
                "sol_vec1 = SolutionVector(2, encoding=encoding1)\n",
                "\n",
                "# define the encoding for the alst two variables \n",
                "nqbit = 4\n",
                "step = 0.05\n",
                "encoding2 = PositiveQbitEncoding(nqbit = nqbit, step=step, offset=0, var_base_name='x')\n",
                "sol_vec2 = SolutionVector(2, encoding=encoding2)\n",
                "\n",
                "# define the solution vector\n",
                "sol_vec = MixedSolutionVector([sol_vec1,sol_vec2])\n",
                "\n",
                "# instantiat the QUBOPS solver\n",
                "options = {'num_reads':10000, 'sampler':SteepestDescentSolver()}\n",
                "qubo = QUBOPS_MIXED(sol_vec, options)"
            ]
        },
        {
            "cell_type": "markdown",
            "metadata": {},
            "source": [
                "We can check which values are possible for the different encodings:"
            ]
        },
        {
            "cell_type": "code",
            "execution_count": 6,
            "metadata": {},
            "outputs": [
                {
                    "data": {
                        "text/plain": [
                            "array([0.  , 0.05, 0.1 , 0.15, 0.2 , 0.25, 0.3 , 0.35, 0.4 , 0.45, 0.5 ,\n",
                            "       0.55, 0.6 , 0.65, 0.7 , 0.75, 0.8 , 0.85, 0.9 , 0.95, 1.  , 1.05,\n",
                            "       1.1 , 1.15, 1.2 , 1.25, 1.3 , 1.35, 1.4 , 1.45, 1.5 , 1.55])"
                        ]
                    },
                    "execution_count": 6,
                    "metadata": {},
                    "output_type": "execute_result"
                }
            ],
            "source": [
                "np.sort(encoding1.get_possible_values())"
            ]
        },
        {
            "cell_type": "code",
            "execution_count": 7,
            "metadata": {},
            "outputs": [
                {
                    "data": {
                        "text/plain": [
                            "array([0.  , 0.05, 0.1 , 0.15, 0.2 , 0.25, 0.3 , 0.35, 0.4 , 0.45, 0.5 ,\n",
                            "       0.55, 0.6 , 0.65, 0.7 , 0.75])"
                        ]
                    },
                    "execution_count": 7,
                    "metadata": {},
                    "output_type": "execute_result"
                }
            ],
            "source": [
                "np.sort(encoding2.get_possible_values())"
            ]
        },
        {
            "cell_type": "markdown",
            "metadata": {},
            "source": [
                "## Solving the system\n",
                "\n",
                "We can now solve the system and analyze the solution"
            ]
        },
        {
            "cell_type": "code",
            "execution_count": 8,
            "metadata": {},
            "outputs": [
                {
                    "name": "stdout",
                    "output_type": "stream",
                    "text": [
                        "prec:  0.05 0.05\n",
                        "\n",
                        "\n",
                        "ref :  [1.5  1.   0.75 0.25]\n",
                        "sol :  [1.5  1.   0.75 0.25]\n",
                        "diff:  [ 0.000e+00 -1.110e-16  2.294e-11  2.733e-11]\n",
                        "\n",
                        "\n",
                        "encoded_ref:  [1.5  1.   0.75 0.25]\n",
                        "encoded_sol:  [1.5  1.   0.75 0.25]\n",
                        "diff       :  [0. 0. 0. 0.]\n",
                        "\n",
                        "\n",
                        "eref:  -10.250000000116417\n",
                        "esol:  -10.250000000116417\n",
                        "\n",
                        "\n",
                        "res_ref:  0.0\n",
                        "res_sol:  0.0\n"
                    ]
                }
            ],
            "source": [
                "sol = qubo.solve(matrices, strength=1E5)\n",
                "sol = np.array(sol).reshape(-1)\n",
                "\n",
                "data_ref, eref = qubo.compute_energy(ref_sol)\n",
                "data_sol, esol = qubo.compute_energy(sol)\n",
                "\n",
                "\n",
                "np.set_printoptions(precision=3)\n",
                "\n",
                "print('prec: ', encoding1.get_average_precision(), encoding2.get_average_precision())\n",
                "print('\\n')\n",
                "\n",
                "print('ref : ', np.array(ref_sol)) \n",
                "print('sol : ', sol)\n",
                "print('diff: ', ref_sol - sol)\n",
                "print('\\n')\n",
                "\n",
                "print('encoded_ref: ', np.array(data_ref[0]))\n",
                "print('encoded_sol: ', np.array(data_sol[0]))\n",
                "print('diff       : ', np.array(data_ref[0]) - np.array(data_sol[0]))\n",
                "print('\\n')\n",
                "print('eref: ', eref)\n",
                "print('esol: ', esol)\n",
                "print('\\n')\n",
                "print('res_ref: ', np.linalg.norm(nlfunc(data_ref[0])))\n",
                "print('res_sol: ', np.linalg.norm(nlfunc(data_sol[0])))\n",
                "\n"
            ]
        }
    ],
    "metadata": {
        "kernelspec": {
            "display_name": "Python 3.8.0 ('qubops')",
            "language": "python",
            "name": "python3"
        },
        "language_info": {
            "codemirror_mode": {
                "name": "ipython",
                "version": 3
            },
            "file_extension": ".py",
            "mimetype": "text/x-python",
            "name": "python",
            "nbconvert_exporter": "python",
            "pygments_lexer": "ipython3",
            "version": "3.9.0"
        },
        "vscode": {
            "interpreter": {
                "hash": "390591a6667b05d6f83558ed597f55be1305d4de992db830679d199a6a0e520c"
            }
        },
        "widgets": {
            "application/vnd.jupyter.widget-state+json": {
                "state": {
                    "17046f96803d48aa8c63b99a5c89e6f3": {
                        "model_module": "@jupyter-widgets/controls",
                        "model_module_version": "1.5.0",
                        "model_name": "DescriptionStyleModel",
                        "state": {
                            "_model_module": "@jupyter-widgets/controls",
                            "_model_module_version": "1.5.0",
                            "_model_name": "DescriptionStyleModel",
                            "_view_count": null,
                            "_view_module": "@jupyter-widgets/base",
                            "_view_module_version": "1.2.0",
                            "_view_name": "StyleView",
                            "description_width": ""
                        }
                    },
                    "1a46e33438a648dd839fe5fd43b9582b": {
                        "model_module": "@jupyter-widgets/controls",
                        "model_module_version": "1.5.0",
                        "model_name": "DescriptionStyleModel",
                        "state": {
                            "_model_module": "@jupyter-widgets/controls",
                            "_model_module_version": "1.5.0",
                            "_model_name": "DescriptionStyleModel",
                            "_view_count": null,
                            "_view_module": "@jupyter-widgets/base",
                            "_view_module_version": "1.2.0",
                            "_view_name": "StyleView",
                            "description_width": ""
                        }
                    },
                    "1f812fe9a02b41b885f01e3190957acf": {
                        "model_module": "@jupyter-widgets/base",
                        "model_module_version": "1.2.0",
                        "model_name": "LayoutModel",
                        "state": {
                            "_model_module": "@jupyter-widgets/base",
                            "_model_module_version": "1.2.0",
                            "_model_name": "LayoutModel",
                            "_view_count": null,
                            "_view_module": "@jupyter-widgets/base",
                            "_view_module_version": "1.2.0",
                            "_view_name": "LayoutView",
                            "align_content": null,
                            "align_items": null,
                            "align_self": null,
                            "border": null,
                            "bottom": null,
                            "display": null,
                            "flex": null,
                            "flex_flow": null,
                            "grid_area": null,
                            "grid_auto_columns": null,
                            "grid_auto_flow": null,
                            "grid_auto_rows": null,
                            "grid_column": null,
                            "grid_gap": null,
                            "grid_row": null,
                            "grid_template_areas": "\n                                       \". . . . right \"\n                                        ",
                            "grid_template_columns": "20% 20% 20% 20% 20%",
                            "grid_template_rows": null,
                            "height": null,
                            "justify_content": null,
                            "justify_items": null,
                            "left": null,
                            "margin": null,
                            "max_height": null,
                            "max_width": null,
                            "min_height": null,
                            "min_width": null,
                            "object_fit": null,
                            "object_position": null,
                            "order": null,
                            "overflow": null,
                            "overflow_x": null,
                            "overflow_y": null,
                            "padding": null,
                            "right": null,
                            "top": null,
                            "visibility": null,
                            "width": "100%"
                        }
                    },
                    "20439ee3a84741dc9a137f7964898fc3": {
                        "model_module": "@jupyter-widgets/controls",
                        "model_module_version": "1.5.0",
                        "model_name": "HTMLModel",
                        "state": {
                            "_dom_classes": [],
                            "_model_module": "@jupyter-widgets/controls",
                            "_model_module_version": "1.5.0",
                            "_model_name": "HTMLModel",
                            "_view_count": null,
                            "_view_module": "@jupyter-widgets/controls",
                            "_view_module_version": "1.5.0",
                            "_view_name": "HTMLView",
                            "description": "",
                            "description_tooltip": null,
                            "layout": "IPY_MODEL_f0e6a746eff140269e915ef65de640c7",
                            "placeholder": "​",
                            "style": "IPY_MODEL_96316857896d44328b3898d849594ae7",
                            "value": "<h5>Status</h5>"
                        }
                    },
                    "246d39f98fdb4892bc1d5bfb88d2f1cd": {
                        "model_module": "@jupyter-widgets/controls",
                        "model_module_version": "1.5.0",
                        "model_name": "DescriptionStyleModel",
                        "state": {
                            "_model_module": "@jupyter-widgets/controls",
                            "_model_module_version": "1.5.0",
                            "_model_name": "DescriptionStyleModel",
                            "_view_count": null,
                            "_view_module": "@jupyter-widgets/base",
                            "_view_module_version": "1.2.0",
                            "_view_name": "StyleView",
                            "description_width": ""
                        }
                    },
                    "27e0478b2a9c4533b2e67eac937cbebc": {
                        "model_module": "@jupyter-widgets/controls",
                        "model_module_version": "1.5.0",
                        "model_name": "HBoxModel",
                        "state": {
                            "_dom_classes": [],
                            "_model_module": "@jupyter-widgets/controls",
                            "_model_module_version": "1.5.0",
                            "_model_name": "HBoxModel",
                            "_view_count": null,
                            "_view_module": "@jupyter-widgets/controls",
                            "_view_module_version": "1.5.0",
                            "_view_name": "HBoxView",
                            "box_style": "",
                            "children": [
                                "IPY_MODEL_ac5a0f78ef8140a2abdf035fd1751936",
                                "IPY_MODEL_5ff6f36eaa894a339210fc29fdbeedcf",
                                "IPY_MODEL_20439ee3a84741dc9a137f7964898fc3",
                                "IPY_MODEL_eef64edafd8f47c885da65fa3ca0ab8a",
                                "IPY_MODEL_a38db3ffdfc848c0b0150e42b3509be5"
                            ],
                            "layout": "IPY_MODEL_fc018f99fbb44aa9beb54a8e6be5209e"
                        }
                    },
                    "2f981df37e914685992f4564103ef872": {
                        "model_module": "@jupyter-widgets/base",
                        "model_module_version": "1.2.0",
                        "model_name": "LayoutModel",
                        "state": {
                            "_model_module": "@jupyter-widgets/base",
                            "_model_module_version": "1.2.0",
                            "_model_name": "LayoutModel",
                            "_view_count": null,
                            "_view_module": "@jupyter-widgets/base",
                            "_view_module_version": "1.2.0",
                            "_view_name": "LayoutView",
                            "align_content": null,
                            "align_items": null,
                            "align_self": null,
                            "border": null,
                            "bottom": null,
                            "display": null,
                            "flex": null,
                            "flex_flow": null,
                            "grid_area": null,
                            "grid_auto_columns": null,
                            "grid_auto_flow": null,
                            "grid_auto_rows": null,
                            "grid_column": null,
                            "grid_gap": null,
                            "grid_row": null,
                            "grid_template_areas": null,
                            "grid_template_columns": null,
                            "grid_template_rows": null,
                            "height": null,
                            "justify_content": null,
                            "justify_items": null,
                            "left": null,
                            "margin": null,
                            "max_height": null,
                            "max_width": null,
                            "min_height": null,
                            "min_width": null,
                            "object_fit": null,
                            "object_position": null,
                            "order": null,
                            "overflow": null,
                            "overflow_x": null,
                            "overflow_y": null,
                            "padding": null,
                            "right": null,
                            "top": null,
                            "visibility": null,
                            "width": null
                        }
                    },
                    "3aa67247d1a9433f87b13ce1370c8b1c": {
                        "model_module": "@jupyter-widgets/base",
                        "model_module_version": "1.2.0",
                        "model_name": "LayoutModel",
                        "state": {
                            "_model_module": "@jupyter-widgets/base",
                            "_model_module_version": "1.2.0",
                            "_model_name": "LayoutModel",
                            "_view_count": null,
                            "_view_module": "@jupyter-widgets/base",
                            "_view_module_version": "1.2.0",
                            "_view_name": "LayoutView",
                            "align_content": null,
                            "align_items": null,
                            "align_self": null,
                            "border": null,
                            "bottom": null,
                            "display": null,
                            "flex": null,
                            "flex_flow": null,
                            "grid_area": null,
                            "grid_auto_columns": null,
                            "grid_auto_flow": null,
                            "grid_auto_rows": null,
                            "grid_column": null,
                            "grid_gap": null,
                            "grid_row": null,
                            "grid_template_areas": null,
                            "grid_template_columns": null,
                            "grid_template_rows": null,
                            "height": null,
                            "justify_content": null,
                            "justify_items": null,
                            "left": null,
                            "margin": null,
                            "max_height": null,
                            "max_width": null,
                            "min_height": null,
                            "min_width": null,
                            "object_fit": null,
                            "object_position": null,
                            "order": null,
                            "overflow": null,
                            "overflow_x": null,
                            "overflow_y": null,
                            "padding": null,
                            "right": null,
                            "top": null,
                            "visibility": null,
                            "width": "190px"
                        }
                    },
                    "40a8f99fef5b4aad89f533edcb091c3f": {
                        "model_module": "@jupyter-widgets/controls",
                        "model_module_version": "1.5.0",
                        "model_name": "ButtonStyleModel",
                        "state": {
                            "_model_module": "@jupyter-widgets/controls",
                            "_model_module_version": "1.5.0",
                            "_model_name": "ButtonStyleModel",
                            "_view_count": null,
                            "_view_module": "@jupyter-widgets/base",
                            "_view_module_version": "1.2.0",
                            "_view_name": "StyleView",
                            "button_color": null,
                            "font_weight": ""
                        }
                    },
                    "46f75da5f7ab4f33b4df8618ccffde6b": {
                        "model_module": "@jupyter-widgets/controls",
                        "model_module_version": "1.5.0",
                        "model_name": "DescriptionStyleModel",
                        "state": {
                            "_model_module": "@jupyter-widgets/controls",
                            "_model_module_version": "1.5.0",
                            "_model_name": "DescriptionStyleModel",
                            "_view_count": null,
                            "_view_module": "@jupyter-widgets/base",
                            "_view_module_version": "1.2.0",
                            "_view_name": "StyleView",
                            "description_width": ""
                        }
                    },
                    "5ff6f36eaa894a339210fc29fdbeedcf": {
                        "model_module": "@jupyter-widgets/controls",
                        "model_module_version": "1.5.0",
                        "model_name": "HTMLModel",
                        "state": {
                            "_dom_classes": [],
                            "_model_module": "@jupyter-widgets/controls",
                            "_model_module_version": "1.5.0",
                            "_model_name": "HTMLModel",
                            "_view_count": null,
                            "_view_module": "@jupyter-widgets/controls",
                            "_view_module_version": "1.5.0",
                            "_view_name": "HTMLView",
                            "description": "",
                            "description_tooltip": null,
                            "layout": "IPY_MODEL_9e036ff6f31e4efb9471d371db06f533",
                            "placeholder": "​",
                            "style": "IPY_MODEL_1a46e33438a648dd839fe5fd43b9582b",
                            "value": "<h5>Backend</h5>"
                        }
                    },
                    "608e06da96f840e890006ad286afc34b": {
                        "model_module": "@jupyter-widgets/controls",
                        "model_module_version": "1.5.0",
                        "model_name": "HTMLModel",
                        "state": {
                            "_dom_classes": [],
                            "_model_module": "@jupyter-widgets/controls",
                            "_model_module_version": "1.5.0",
                            "_model_name": "HTMLModel",
                            "_view_count": null,
                            "_view_module": "@jupyter-widgets/controls",
                            "_view_module_version": "1.5.0",
                            "_view_name": "HTMLView",
                            "description": "",
                            "description_tooltip": null,
                            "layout": "IPY_MODEL_74038cd5fbe8491ba5457f6cc81f7b5a",
                            "placeholder": "​",
                            "style": "IPY_MODEL_8569084253df4279b752a85c0b99027b",
                            "value": "<p style='font-family: IBM Plex Sans, Arial, Helvetica, sans-serif; font-size: 20px; font-weight: medium;'>Circuit Properties</p>"
                        }
                    },
                    "74038cd5fbe8491ba5457f6cc81f7b5a": {
                        "model_module": "@jupyter-widgets/base",
                        "model_module_version": "1.2.0",
                        "model_name": "LayoutModel",
                        "state": {
                            "_model_module": "@jupyter-widgets/base",
                            "_model_module_version": "1.2.0",
                            "_model_name": "LayoutModel",
                            "_view_count": null,
                            "_view_module": "@jupyter-widgets/base",
                            "_view_module_version": "1.2.0",
                            "_view_name": "LayoutView",
                            "align_content": null,
                            "align_items": null,
                            "align_self": null,
                            "border": null,
                            "bottom": null,
                            "display": null,
                            "flex": null,
                            "flex_flow": null,
                            "grid_area": null,
                            "grid_auto_columns": null,
                            "grid_auto_flow": null,
                            "grid_auto_rows": null,
                            "grid_column": null,
                            "grid_gap": null,
                            "grid_row": null,
                            "grid_template_areas": null,
                            "grid_template_columns": null,
                            "grid_template_rows": null,
                            "height": null,
                            "justify_content": null,
                            "justify_items": null,
                            "left": null,
                            "margin": "0px 0px 10px 0px",
                            "max_height": null,
                            "max_width": null,
                            "min_height": null,
                            "min_width": null,
                            "object_fit": null,
                            "object_position": null,
                            "order": null,
                            "overflow": null,
                            "overflow_x": null,
                            "overflow_y": null,
                            "padding": null,
                            "right": null,
                            "top": null,
                            "visibility": null,
                            "width": null
                        }
                    },
                    "8569084253df4279b752a85c0b99027b": {
                        "model_module": "@jupyter-widgets/controls",
                        "model_module_version": "1.5.0",
                        "model_name": "DescriptionStyleModel",
                        "state": {
                            "_model_module": "@jupyter-widgets/controls",
                            "_model_module_version": "1.5.0",
                            "_model_name": "DescriptionStyleModel",
                            "_view_count": null,
                            "_view_module": "@jupyter-widgets/base",
                            "_view_module_version": "1.2.0",
                            "_view_name": "StyleView",
                            "description_width": ""
                        }
                    },
                    "917c693fd8d84f2e99f59d75cd5062c2": {
                        "model_module": "@jupyter-widgets/controls",
                        "model_module_version": "1.5.0",
                        "model_name": "GridBoxModel",
                        "state": {
                            "_dom_classes": [],
                            "_model_module": "@jupyter-widgets/controls",
                            "_model_module_version": "1.5.0",
                            "_model_name": "GridBoxModel",
                            "_view_count": null,
                            "_view_module": "@jupyter-widgets/controls",
                            "_view_module_version": "1.5.0",
                            "_view_name": "GridBoxView",
                            "box_style": "",
                            "children": [
                                "IPY_MODEL_b7e87c3bbc404502ab1550d64f86c473"
                            ],
                            "layout": "IPY_MODEL_1f812fe9a02b41b885f01e3190957acf"
                        }
                    },
                    "96316857896d44328b3898d849594ae7": {
                        "model_module": "@jupyter-widgets/controls",
                        "model_module_version": "1.5.0",
                        "model_name": "DescriptionStyleModel",
                        "state": {
                            "_model_module": "@jupyter-widgets/controls",
                            "_model_module_version": "1.5.0",
                            "_model_name": "DescriptionStyleModel",
                            "_view_count": null,
                            "_view_module": "@jupyter-widgets/base",
                            "_view_module_version": "1.2.0",
                            "_view_name": "StyleView",
                            "description_width": ""
                        }
                    },
                    "9e036ff6f31e4efb9471d371db06f533": {
                        "model_module": "@jupyter-widgets/base",
                        "model_module_version": "1.2.0",
                        "model_name": "LayoutModel",
                        "state": {
                            "_model_module": "@jupyter-widgets/base",
                            "_model_module_version": "1.2.0",
                            "_model_name": "LayoutModel",
                            "_view_count": null,
                            "_view_module": "@jupyter-widgets/base",
                            "_view_module_version": "1.2.0",
                            "_view_name": "LayoutView",
                            "align_content": null,
                            "align_items": null,
                            "align_self": null,
                            "border": null,
                            "bottom": null,
                            "display": null,
                            "flex": null,
                            "flex_flow": null,
                            "grid_area": null,
                            "grid_auto_columns": null,
                            "grid_auto_flow": null,
                            "grid_auto_rows": null,
                            "grid_column": null,
                            "grid_gap": null,
                            "grid_row": null,
                            "grid_template_areas": null,
                            "grid_template_columns": null,
                            "grid_template_rows": null,
                            "height": null,
                            "justify_content": null,
                            "justify_items": null,
                            "left": null,
                            "margin": null,
                            "max_height": null,
                            "max_width": null,
                            "min_height": null,
                            "min_width": null,
                            "object_fit": null,
                            "object_position": null,
                            "order": null,
                            "overflow": null,
                            "overflow_x": null,
                            "overflow_y": null,
                            "padding": null,
                            "right": null,
                            "top": null,
                            "visibility": null,
                            "width": "145px"
                        }
                    },
                    "a38db3ffdfc848c0b0150e42b3509be5": {
                        "model_module": "@jupyter-widgets/controls",
                        "model_module_version": "1.5.0",
                        "model_name": "HTMLModel",
                        "state": {
                            "_dom_classes": [],
                            "_model_module": "@jupyter-widgets/controls",
                            "_model_module_version": "1.5.0",
                            "_model_name": "HTMLModel",
                            "_view_count": null,
                            "_view_module": "@jupyter-widgets/controls",
                            "_view_module_version": "1.5.0",
                            "_view_name": "HTMLView",
                            "description": "",
                            "description_tooltip": null,
                            "layout": "IPY_MODEL_2f981df37e914685992f4564103ef872",
                            "placeholder": "​",
                            "style": "IPY_MODEL_246d39f98fdb4892bc1d5bfb88d2f1cd",
                            "value": "<h5>Message</h5>"
                        }
                    },
                    "ac5a0f78ef8140a2abdf035fd1751936": {
                        "model_module": "@jupyter-widgets/controls",
                        "model_module_version": "1.5.0",
                        "model_name": "HTMLModel",
                        "state": {
                            "_dom_classes": [],
                            "_model_module": "@jupyter-widgets/controls",
                            "_model_module_version": "1.5.0",
                            "_model_name": "HTMLModel",
                            "_view_count": null,
                            "_view_module": "@jupyter-widgets/controls",
                            "_view_module_version": "1.5.0",
                            "_view_name": "HTMLView",
                            "description": "",
                            "description_tooltip": null,
                            "layout": "IPY_MODEL_3aa67247d1a9433f87b13ce1370c8b1c",
                            "placeholder": "​",
                            "style": "IPY_MODEL_46f75da5f7ab4f33b4df8618ccffde6b",
                            "value": "<h5>Job ID</h5>"
                        }
                    },
                    "b7e87c3bbc404502ab1550d64f86c473": {
                        "model_module": "@jupyter-widgets/controls",
                        "model_module_version": "1.5.0",
                        "model_name": "ButtonModel",
                        "state": {
                            "_dom_classes": [],
                            "_model_module": "@jupyter-widgets/controls",
                            "_model_module_version": "1.5.0",
                            "_model_name": "ButtonModel",
                            "_view_count": null,
                            "_view_module": "@jupyter-widgets/controls",
                            "_view_module_version": "1.5.0",
                            "_view_name": "ButtonView",
                            "button_style": "primary",
                            "description": "Clear",
                            "disabled": false,
                            "icon": "",
                            "layout": "IPY_MODEL_f6a39516121743099bece32bc0c3c696",
                            "style": "IPY_MODEL_40a8f99fef5b4aad89f533edcb091c3f",
                            "tooltip": ""
                        }
                    },
                    "eef64edafd8f47c885da65fa3ca0ab8a": {
                        "model_module": "@jupyter-widgets/controls",
                        "model_module_version": "1.5.0",
                        "model_name": "HTMLModel",
                        "state": {
                            "_dom_classes": [],
                            "_model_module": "@jupyter-widgets/controls",
                            "_model_module_version": "1.5.0",
                            "_model_name": "HTMLModel",
                            "_view_count": null,
                            "_view_module": "@jupyter-widgets/controls",
                            "_view_module_version": "1.5.0",
                            "_view_name": "HTMLView",
                            "description": "",
                            "description_tooltip": null,
                            "layout": "IPY_MODEL_ef270ca07615429ab689824b66fdb1ff",
                            "placeholder": "​",
                            "style": "IPY_MODEL_17046f96803d48aa8c63b99a5c89e6f3",
                            "value": "<h5>Queue</h5>"
                        }
                    },
                    "ef270ca07615429ab689824b66fdb1ff": {
                        "model_module": "@jupyter-widgets/base",
                        "model_module_version": "1.2.0",
                        "model_name": "LayoutModel",
                        "state": {
                            "_model_module": "@jupyter-widgets/base",
                            "_model_module_version": "1.2.0",
                            "_model_name": "LayoutModel",
                            "_view_count": null,
                            "_view_module": "@jupyter-widgets/base",
                            "_view_module_version": "1.2.0",
                            "_view_name": "LayoutView",
                            "align_content": null,
                            "align_items": null,
                            "align_self": null,
                            "border": null,
                            "bottom": null,
                            "display": null,
                            "flex": null,
                            "flex_flow": null,
                            "grid_area": null,
                            "grid_auto_columns": null,
                            "grid_auto_flow": null,
                            "grid_auto_rows": null,
                            "grid_column": null,
                            "grid_gap": null,
                            "grid_row": null,
                            "grid_template_areas": null,
                            "grid_template_columns": null,
                            "grid_template_rows": null,
                            "height": null,
                            "justify_content": null,
                            "justify_items": null,
                            "left": null,
                            "margin": null,
                            "max_height": null,
                            "max_width": null,
                            "min_height": null,
                            "min_width": null,
                            "object_fit": null,
                            "object_position": null,
                            "order": null,
                            "overflow": null,
                            "overflow_x": null,
                            "overflow_y": null,
                            "padding": null,
                            "right": null,
                            "top": null,
                            "visibility": null,
                            "width": "70px"
                        }
                    },
                    "f0e6a746eff140269e915ef65de640c7": {
                        "model_module": "@jupyter-widgets/base",
                        "model_module_version": "1.2.0",
                        "model_name": "LayoutModel",
                        "state": {
                            "_model_module": "@jupyter-widgets/base",
                            "_model_module_version": "1.2.0",
                            "_model_name": "LayoutModel",
                            "_view_count": null,
                            "_view_module": "@jupyter-widgets/base",
                            "_view_module_version": "1.2.0",
                            "_view_name": "LayoutView",
                            "align_content": null,
                            "align_items": null,
                            "align_self": null,
                            "border": null,
                            "bottom": null,
                            "display": null,
                            "flex": null,
                            "flex_flow": null,
                            "grid_area": null,
                            "grid_auto_columns": null,
                            "grid_auto_flow": null,
                            "grid_auto_rows": null,
                            "grid_column": null,
                            "grid_gap": null,
                            "grid_row": null,
                            "grid_template_areas": null,
                            "grid_template_columns": null,
                            "grid_template_rows": null,
                            "height": null,
                            "justify_content": null,
                            "justify_items": null,
                            "left": null,
                            "margin": null,
                            "max_height": null,
                            "max_width": null,
                            "min_height": null,
                            "min_width": null,
                            "object_fit": null,
                            "object_position": null,
                            "order": null,
                            "overflow": null,
                            "overflow_x": null,
                            "overflow_y": null,
                            "padding": null,
                            "right": null,
                            "top": null,
                            "visibility": null,
                            "width": "95px"
                        }
                    },
                    "f6a39516121743099bece32bc0c3c696": {
                        "model_module": "@jupyter-widgets/base",
                        "model_module_version": "1.2.0",
                        "model_name": "LayoutModel",
                        "state": {
                            "_model_module": "@jupyter-widgets/base",
                            "_model_module_version": "1.2.0",
                            "_model_name": "LayoutModel",
                            "_view_count": null,
                            "_view_module": "@jupyter-widgets/base",
                            "_view_module_version": "1.2.0",
                            "_view_name": "LayoutView",
                            "align_content": null,
                            "align_items": null,
                            "align_self": null,
                            "border": null,
                            "bottom": null,
                            "display": null,
                            "flex": null,
                            "flex_flow": null,
                            "grid_area": "right",
                            "grid_auto_columns": null,
                            "grid_auto_flow": null,
                            "grid_auto_rows": null,
                            "grid_column": null,
                            "grid_gap": null,
                            "grid_row": null,
                            "grid_template_areas": null,
                            "grid_template_columns": null,
                            "grid_template_rows": null,
                            "height": null,
                            "justify_content": null,
                            "justify_items": null,
                            "left": null,
                            "margin": null,
                            "max_height": null,
                            "max_width": null,
                            "min_height": null,
                            "min_width": null,
                            "object_fit": null,
                            "object_position": null,
                            "order": null,
                            "overflow": null,
                            "overflow_x": null,
                            "overflow_y": null,
                            "padding": "0px 0px 0px 0px",
                            "right": null,
                            "top": null,
                            "visibility": null,
                            "width": "70px"
                        }
                    },
                    "fc018f99fbb44aa9beb54a8e6be5209e": {
                        "model_module": "@jupyter-widgets/base",
                        "model_module_version": "1.2.0",
                        "model_name": "LayoutModel",
                        "state": {
                            "_model_module": "@jupyter-widgets/base",
                            "_model_module_version": "1.2.0",
                            "_model_name": "LayoutModel",
                            "_view_count": null,
                            "_view_module": "@jupyter-widgets/base",
                            "_view_module_version": "1.2.0",
                            "_view_name": "LayoutView",
                            "align_content": null,
                            "align_items": null,
                            "align_self": null,
                            "border": null,
                            "bottom": null,
                            "display": null,
                            "flex": null,
                            "flex_flow": null,
                            "grid_area": null,
                            "grid_auto_columns": null,
                            "grid_auto_flow": null,
                            "grid_auto_rows": null,
                            "grid_column": null,
                            "grid_gap": null,
                            "grid_row": null,
                            "grid_template_areas": null,
                            "grid_template_columns": null,
                            "grid_template_rows": null,
                            "height": null,
                            "justify_content": null,
                            "justify_items": null,
                            "left": null,
                            "margin": "0px 0px 0px 37px",
                            "max_height": null,
                            "max_width": null,
                            "min_height": null,
                            "min_width": null,
                            "object_fit": null,
                            "object_position": null,
                            "order": null,
                            "overflow": null,
                            "overflow_x": null,
                            "overflow_y": null,
                            "padding": null,
                            "right": null,
                            "top": null,
                            "visibility": null,
                            "width": "600px"
                        }
                    }
                },
                "version_major": 2,
                "version_minor": 0
            }
        }
    },
    "nbformat": 4,
    "nbformat_minor": 2
}
