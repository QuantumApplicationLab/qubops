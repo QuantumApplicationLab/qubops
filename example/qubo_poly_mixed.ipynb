{
    "cells": [
        {
            "cell_type": "markdown",
            "metadata": {
                "tags": [
                    "remove_cell"
                ]
            },
            "source": [
                "# QUBO formulation of polynomial equation"
            ]
        },
        {
            "cell_type": "markdown",
            "metadata": {},
            "source": [
                "# Use case\n",
                "\n",
                "To illustrate the metohod we are taking the equation of the two node water system that reads:\n",
                "\n",
                "$$\n",
                "-1 - x_0 + x_1 = 0 \\\\\n",
                " 1 - x_1 = 0 \\\\\n",
                " 2 - q x_0^2 - x_2 = 0 \\\\\n",
                " -p x_1^2 + x_2 - x_3 = 0 \n",
                "$$\n",
                "\n",
                "with $q$ and $p$ paramerers taking disrete values either 1 or 2"
            ]
        },
        {
            "cell_type": "code",
            "execution_count": 1,
            "metadata": {},
            "outputs": [],
            "source": [
                "import numpy as np\n",
                "\n",
                "def nlfunc(input):\n",
                "    x0,x1,x2,x3 = input\n",
                "    q, p = parameters\n",
                "\n",
                "    def f0():\n",
                "        return -1 - x0 + x1\n",
                "    \n",
                "    def f1():\n",
                "        return 1 - x1\n",
                "    \n",
                "    def f2():\n",
                "        return 2  - q*x0**2  - x2\n",
                "\n",
                "    def f3():\n",
                "        return -p*x1**2 + x2 - x3\n",
                "    \n",
                "    return np.array([f0(), f1(), f2(), f3()])\n",
                "\n"
            ]
        },
        {
            "cell_type": "markdown",
            "metadata": {},
            "source": [
                "## Classical Solution\n",
                "\n",
                "The solution of such a small system can be obtained by newton raphson"
            ]
        },
        {
            "cell_type": "code",
            "execution_count": 2,
            "metadata": {},
            "outputs": [
                {
                    "name": "stdout",
                    "output_type": "stream",
                    "text": [
                        "[0, 0] [1.97361016e-11 1.00000000e+00 2.00000000e+00 2.00000000e+00]\n",
                        "[0, 1] [2.3854661e-21 1.0000000e+00 2.0000000e+00 1.0000000e+00]\n",
                        "[0, 2] [ 2.77586915e-17  1.00000000e+00  2.00000000e+00 -2.38723485e-11]\n",
                        "[0, 3] [-4.6259067e-17  1.0000000e+00  2.0000000e+00 -1.0000000e+00]\n",
                        "[1, 0] [8.32667906e-17 1.00000000e+00 2.00000000e+00 2.00000000e+00]\n",
                        "[1, 1] [1.11021173e-16 1.00000000e+00 2.00000000e+00 1.00000000e+00]\n",
                        "[1, 2] [-5.55113153e-17  1.00000000e+00  2.00000000e+00  2.11775042e-13]\n",
                        "[1, 3] [ 1.62400434e-22  1.00000000e+00  2.00000000e+00 -1.00000000e+00]\n",
                        "[2, 0] [-4.69045012e-21  1.00000000e+00  2.00000000e+00  2.00000000e+00]\n",
                        "[2, 1] [-1.01094061e-21  1.00000000e+00  2.00000000e+00  1.00000000e+00]\n",
                        "[2, 2] [5.55097881e-17 1.00000000e+00 2.00000000e+00 0.00000000e+00]\n",
                        "[2, 3] [-1.0004285e-21  1.0000000e+00  2.0000000e+00 -1.0000000e+00]\n",
                        "[3, 0] [-1.11021835e-16  1.00000000e+00  2.00000000e+00  2.00000000e+00]\n",
                        "[3, 1] [-8.32667269e-17  1.00000000e+00  2.00000000e+00  1.00000000e+00]\n",
                        "[3, 2] [ 5.55142848e-17  1.00000000e+00  2.00000000e+00 -5.16987883e-26]\n",
                        "[3, 3] [ 5.5509641e-17  1.0000000e+00  2.0000000e+00 -1.0000000e+00]\n"
                    ]
                },
                {
                    "name": "stderr",
                    "output_type": "stream",
                    "text": [
                        "/home/nico/QuantumApplicationLab/QuantumNewtonRaphson/quantum_newton_raphson/utils.py:74: SparseEfficiencyWarning: spsolve requires A be CSC or CSR matrix format\n",
                        "  warn(\"spsolve requires A be CSC or CSR matrix format\", SparseEfficiencyWarning)\n"
                    ]
                }
            ],
            "source": [
                "from quantum_newton_raphson.newton_raphson import newton_raphson\n",
                "\n",
                "parameters_list = [[i, j] for i in range(4) for j in range(4)] \n",
                "\n",
                "for parameters in parameters_list:\n",
                "    initial_point = np.random.rand(4)\n",
                "    res = newton_raphson(nlfunc, initial_point)\n",
                "    assert np.allclose(nlfunc(res.solution), 0)\n",
                "    print(parameters, res.solution)"
            ]
        },
        {
            "cell_type": "markdown",
            "metadata": {},
            "source": [
                "## 2. QUBO formalism for linear systems\n",
                "\n",
                "The Quandratic Unconstrainted Binary Optimization problem, or QUBO, allows to minimize the cost function :\n",
                "\n",
                "$$\n",
                "E(x) = x^{T}Qx\n",
                "$$\n",
                "\n",
                "where the variables $x_i$ are binaries, i.e. the are 0 or 1. The equation above can be rewritten as :\n",
                "\n",
                "$$\n",
                "E(x) = \\sum_i Q_{ii}x_i + \\sum_{ij} Q_{ij}x_ix_j\n",
                "$$\n",
                "\n",
                "that is very similar to the Ising model, basis of the quantum annealler architecture. \n",
                "\n",
                "### Encoding real numbers in binary variables\n",
                "\n",
                "In the QUBO problems, variables are binaries and we of course want to solve for real numbers in our case. There ar e different ways to encode real numbers in multiple binaries. In our case since the variables are between -1.0 and 1.0 we can use the following encoding : \n",
                "\n",
                "$$\n",
                "r_i = a \\sum_n x_n 2^{n} - x_{k+n} 2^{n} \n",
                "$$\n",
                "\n",
                "where $a$ is a normalization constant. THis encoding is created in the `SolutionVector` class that allows to encode/decode real numbers in a series of binaries variables. We use here the `RealUnitQbitEncoding` to obtain real numbers between -1 and 1. The number of qbit controls the precision of the reals we can obtain."
            ]
        },
        {
            "cell_type": "markdown",
            "metadata": {},
            "source": [
                "### Polynomial equation\n",
                "\n",
                "We first write the polynomial equation as follow (https://www.nature.com/articles/s41598-019-46729-0) \n",
                "\n",
                "$$\n",
                "F(X) = 0\n",
                "$$\n",
                "\n",
                "with\n",
                "\n",
                "$$\n",
                "F_i = P_i^{(0)} + \\sum_j P_{ij}^{(1)}x_j + \\sum_{jk} P_{ijk}^{(2)}x_j x_k  = 0\n",
                "$$\n",
                "\n",
                "To solve the system we minimize the residual sum of square\n",
                "\n",
                "$$\n",
                "\\chi^2 = [P^{(0)} + P^{(1)} X + P^{(2)} X X.T ]^2\n",
                "$$\n"
            ]
        },
        {
            "cell_type": "markdown",
            "metadata": {},
            "source": [
                "# Use case\n",
                "\n",
                "To illustrate the metohod we are taking the equation of the two node water system that reads:\n",
                "\n",
                "$$\n",
                "-1 - x_0 + x_1 = 0 \\\\\n",
                " 1 - x_1 = 0 \\\\\n",
                " 2 - q x_0^2 - x_2 = 0 \\\\\n",
                " -p x_1^2 + x_2 - x_3 = 0 \\\\\n",
                " c(q + p) \\rightarrow 0 \n",
                "$$\n",
                "\n",
                "with $q$ and $p$ paramerers taking disrete values either 1 or 2"
            ]
        },
        {
            "cell_type": "code",
            "execution_count": 3,
            "metadata": {},
            "outputs": [],
            "source": [
                "import numpy as np\n",
                "import sparse\n",
                "def define_matrices():\n",
                "    \n",
                "    # system of equations\n",
                "    num_equations = 5\n",
                "    num_variables = 6\n",
                "\n",
                "    P0 = np.zeros((num_equations,1))\n",
                "    P0[0] = -1\n",
                "    P0[1] = 1\n",
                "    P0[2] = 2\n",
                "    P0[3] = 0\n",
                "\n",
                "    P1 = np.zeros((num_equations, num_variables))\n",
                "    P1[0, 0] = -1\n",
                "    P1[0, 1] =  1\n",
                "\n",
                "    P1[1, 1] = -1\n",
                "\n",
                "    P1[2, 2] = -1\n",
                "\n",
                "    P1[3, 2] =  1 \n",
                "    P1[3, 3] = -1\n",
                "\n",
                "    # cost\n",
                "    c = 1E-1\n",
                "    P1[4,4] = c\n",
                "    P1[4,5] = c\n",
                "   \n",
                "\n",
                "    P2 = np.zeros((num_equations, num_variables, num_variables))\n",
                "\n",
                "\n",
                "    P3 = np.zeros((num_equations, num_variables, num_variables, num_variables))\n",
                "    P3[2, 0, 0, 4] = -1\n",
                "    P3[3, 1, 1, 5] = -1\n",
                "\n",
                "\n",
                "    return sparse.COO(P0), sparse.COO(P1), sparse.COO(P2), sparse.COO(P3)\n",
                "\n",
                "matrices = define_matrices()"
            ]
        },
        {
            "cell_type": "markdown",
            "metadata": {},
            "source": [
                "## 3. Solving the system\n",
                "\n",
                "We will use here the `SimulatedAnnealingSampler` to be able to run that code locally. Quantum solvers are available through the Leap cloud service."
            ]
        },
        {
            "cell_type": "code",
            "execution_count": 4,
            "metadata": {},
            "outputs": [],
            "source": [
                "from qubops.qubo_poly import QUBO_POLY\n",
                "from qubops.encodings import PositiveQbitEncoding\n",
                "import dimod\n",
                "# options = {'num_reads':20, 'num_qbits':2, 'sampler':dimod.ExactSolver(), \n",
                "#            'encoding': PositiveQbitEncoding}\n",
                "# qubops=QUBO_POLY(options)\n",
                "# sol = qubops.solve(matrices)\n",
                "# sol"
            ]
        },
        {
            "cell_type": "markdown",
            "metadata": {},
            "source": [
                "# Switch sampler"
            ]
        },
        {
            "cell_type": "code",
            "execution_count": 5,
            "metadata": {},
            "outputs": [
                {
                    "data": {
                        "text/plain": [
                            "array([0., 1., 2., 2., 0., 0.])"
                        ]
                    },
                    "execution_count": 5,
                    "metadata": {},
                    "output_type": "execute_result"
                }
            ],
            "source": [
                "import neal\n",
                "sampler = neal.SimulatedAnnealingSampler()\n",
                "options = {'num_reads':100, 'num_qbits':2, 'sampler':sampler, \n",
                "           'encoding': PositiveQbitEncoding}\n",
                "qubops=QUBO_POLY(options)\n",
                "\n",
                "sol = qubops.solve(matrices)\n",
                "sol"
            ]
        },
        {
            "cell_type": "markdown",
            "metadata": {},
            "source": [
                "# Add slack variables"
            ]
        },
        {
            "cell_type": "code",
            "execution_count": 19,
            "metadata": {},
            "outputs": [],
            "source": [
                "bqm = qubops.create_qubo_matrix(qubops.x)\n",
                "# slacks1 = bqm.add_linear_inequality_constraint([(\"x_003_001\",1), (\"x_003_002\",2)], lagrange_multiplier=2/3, label=\"head1\", lb=0, ub=1)\n",
                "slacks2 = bqm.add_linear_inequality_constraint(qubops.all_expr[3], lagrange_multiplier=1, label=\"head2\", lb=0, ub=1)"
            ]
        },
        {
            "cell_type": "code",
            "execution_count": 20,
            "metadata": {},
            "outputs": [],
            "source": [
                "import neal\n",
                "sampler = neal.SimulatedAnnealingSampler()\n",
                "sampleset = sampler.sample(bqm, num_reads = 100)"
            ]
        },
        {
            "cell_type": "code",
            "execution_count": 21,
            "metadata": {},
            "outputs": [
                {
                    "data": {
                        "text/plain": [
                            "array([0., 1., 2., 1., 0., 1.])"
                        ]
                    },
                    "execution_count": 21,
                    "metadata": {},
                    "output_type": "execute_result"
                }
            ],
            "source": [
                "sol = sampleset.lowest()\n",
                "idx, vars, data = qubops.extract_data(sol)\n",
                "sol = qubops.solution_vector.decode_solution(data)\n",
                "sol"
            ]
        },
        {
            "cell_type": "code",
            "execution_count": 9,
            "metadata": {},
            "outputs": [
                {
                    "data": {
                        "text/plain": [
                            "array([0., 0., 0., 0.])"
                        ]
                    },
                    "execution_count": 9,
                    "metadata": {},
                    "output_type": "execute_result"
                }
            ],
            "source": [
                "parameters = sol[4:]\n",
                "nlfunc(sol[:4])"
            ]
        },
        {
            "cell_type": "code",
            "execution_count": 16,
            "metadata": {},
            "outputs": [
                {
                    "data": {
                        "text/plain": [
                            "['x_001_001',\n",
                            " 'x_001_002',\n",
                            " 'x_002_001',\n",
                            " 'x_002_002',\n",
                            " 'x_003_001',\n",
                            " 'x_003_002',\n",
                            " 'x_004_001',\n",
                            " 'x_004_002',\n",
                            " 'x_005_001',\n",
                            " 'x_005_002',\n",
                            " 'x_006_001',\n",
                            " 'x_006_002']"
                        ]
                    },
                    "execution_count": 16,
                    "metadata": {},
                    "output_type": "execute_result"
                }
            ],
            "source": [
                "qubops.all_vars"
            ]
        },
        {
            "cell_type": "code",
            "execution_count": 17,
            "metadata": {},
            "outputs": [
                {
                    "data": {
                        "text/plain": [
                            "[[('x_001_001', 1), ('x_001_002', 2)],\n",
                            " [('x_002_001', 1), ('x_002_002', 2)],\n",
                            " [('x_003_001', 1), ('x_003_002', 2)],\n",
                            " [('x_004_001', 1), ('x_004_002', 2)],\n",
                            " [('x_005_001', 1), ('x_005_002', 2)],\n",
                            " [('x_006_001', 1), ('x_006_002', 2)]]"
                        ]
                    },
                    "execution_count": 17,
                    "metadata": {},
                    "output_type": "execute_result"
                }
            ],
            "source": [
                "qubops.all_expr"
            ]
        },
        {
            "cell_type": "code",
            "execution_count": null,
            "metadata": {},
            "outputs": [],
            "source": []
        }
    ],
    "metadata": {
        "kernelspec": {
            "display_name": "Python 3.8.0 ('qubops')",
            "language": "python",
            "name": "python3"
        },
        "language_info": {
            "codemirror_mode": {
                "name": "ipython",
                "version": 3
            },
            "file_extension": ".py",
            "mimetype": "text/x-python",
            "name": "python",
            "nbconvert_exporter": "python",
            "pygments_lexer": "ipython3",
            "version": "3.9.0"
        },
        "vscode": {
            "interpreter": {
                "hash": "390591a6667b05d6f83558ed597f55be1305d4de992db830679d199a6a0e520c"
            }
        },
        "widgets": {
            "application/vnd.jupyter.widget-state+json": {
                "state": {
                    "17046f96803d48aa8c63b99a5c89e6f3": {
                        "model_module": "@jupyter-widgets/controls",
                        "model_module_version": "1.5.0",
                        "model_name": "DescriptionStyleModel",
                        "state": {
                            "_model_module": "@jupyter-widgets/controls",
                            "_model_module_version": "1.5.0",
                            "_model_name": "DescriptionStyleModel",
                            "_view_count": null,
                            "_view_module": "@jupyter-widgets/base",
                            "_view_module_version": "1.2.0",
                            "_view_name": "StyleView",
                            "description_width": ""
                        }
                    },
                    "1a46e33438a648dd839fe5fd43b9582b": {
                        "model_module": "@jupyter-widgets/controls",
                        "model_module_version": "1.5.0",
                        "model_name": "DescriptionStyleModel",
                        "state": {
                            "_model_module": "@jupyter-widgets/controls",
                            "_model_module_version": "1.5.0",
                            "_model_name": "DescriptionStyleModel",
                            "_view_count": null,
                            "_view_module": "@jupyter-widgets/base",
                            "_view_module_version": "1.2.0",
                            "_view_name": "StyleView",
                            "description_width": ""
                        }
                    },
                    "1f812fe9a02b41b885f01e3190957acf": {
                        "model_module": "@jupyter-widgets/base",
                        "model_module_version": "1.2.0",
                        "model_name": "LayoutModel",
                        "state": {
                            "_model_module": "@jupyter-widgets/base",
                            "_model_module_version": "1.2.0",
                            "_model_name": "LayoutModel",
                            "_view_count": null,
                            "_view_module": "@jupyter-widgets/base",
                            "_view_module_version": "1.2.0",
                            "_view_name": "LayoutView",
                            "align_content": null,
                            "align_items": null,
                            "align_self": null,
                            "border": null,
                            "bottom": null,
                            "display": null,
                            "flex": null,
                            "flex_flow": null,
                            "grid_area": null,
                            "grid_auto_columns": null,
                            "grid_auto_flow": null,
                            "grid_auto_rows": null,
                            "grid_column": null,
                            "grid_gap": null,
                            "grid_row": null,
                            "grid_template_areas": "\n                                       \". . . . right \"\n                                        ",
                            "grid_template_columns": "20% 20% 20% 20% 20%",
                            "grid_template_rows": null,
                            "height": null,
                            "justify_content": null,
                            "justify_items": null,
                            "left": null,
                            "margin": null,
                            "max_height": null,
                            "max_width": null,
                            "min_height": null,
                            "min_width": null,
                            "object_fit": null,
                            "object_position": null,
                            "order": null,
                            "overflow": null,
                            "overflow_x": null,
                            "overflow_y": null,
                            "padding": null,
                            "right": null,
                            "top": null,
                            "visibility": null,
                            "width": "100%"
                        }
                    },
                    "20439ee3a84741dc9a137f7964898fc3": {
                        "model_module": "@jupyter-widgets/controls",
                        "model_module_version": "1.5.0",
                        "model_name": "HTMLModel",
                        "state": {
                            "_dom_classes": [],
                            "_model_module": "@jupyter-widgets/controls",
                            "_model_module_version": "1.5.0",
                            "_model_name": "HTMLModel",
                            "_view_count": null,
                            "_view_module": "@jupyter-widgets/controls",
                            "_view_module_version": "1.5.0",
                            "_view_name": "HTMLView",
                            "description": "",
                            "description_tooltip": null,
                            "layout": "IPY_MODEL_f0e6a746eff140269e915ef65de640c7",
                            "placeholder": "​",
                            "style": "IPY_MODEL_96316857896d44328b3898d849594ae7",
                            "value": "<h5>Status</h5>"
                        }
                    },
                    "246d39f98fdb4892bc1d5bfb88d2f1cd": {
                        "model_module": "@jupyter-widgets/controls",
                        "model_module_version": "1.5.0",
                        "model_name": "DescriptionStyleModel",
                        "state": {
                            "_model_module": "@jupyter-widgets/controls",
                            "_model_module_version": "1.5.0",
                            "_model_name": "DescriptionStyleModel",
                            "_view_count": null,
                            "_view_module": "@jupyter-widgets/base",
                            "_view_module_version": "1.2.0",
                            "_view_name": "StyleView",
                            "description_width": ""
                        }
                    },
                    "27e0478b2a9c4533b2e67eac937cbebc": {
                        "model_module": "@jupyter-widgets/controls",
                        "model_module_version": "1.5.0",
                        "model_name": "HBoxModel",
                        "state": {
                            "_dom_classes": [],
                            "_model_module": "@jupyter-widgets/controls",
                            "_model_module_version": "1.5.0",
                            "_model_name": "HBoxModel",
                            "_view_count": null,
                            "_view_module": "@jupyter-widgets/controls",
                            "_view_module_version": "1.5.0",
                            "_view_name": "HBoxView",
                            "box_style": "",
                            "children": [
                                "IPY_MODEL_ac5a0f78ef8140a2abdf035fd1751936",
                                "IPY_MODEL_5ff6f36eaa894a339210fc29fdbeedcf",
                                "IPY_MODEL_20439ee3a84741dc9a137f7964898fc3",
                                "IPY_MODEL_eef64edafd8f47c885da65fa3ca0ab8a",
                                "IPY_MODEL_a38db3ffdfc848c0b0150e42b3509be5"
                            ],
                            "layout": "IPY_MODEL_fc018f99fbb44aa9beb54a8e6be5209e"
                        }
                    },
                    "2f981df37e914685992f4564103ef872": {
                        "model_module": "@jupyter-widgets/base",
                        "model_module_version": "1.2.0",
                        "model_name": "LayoutModel",
                        "state": {
                            "_model_module": "@jupyter-widgets/base",
                            "_model_module_version": "1.2.0",
                            "_model_name": "LayoutModel",
                            "_view_count": null,
                            "_view_module": "@jupyter-widgets/base",
                            "_view_module_version": "1.2.0",
                            "_view_name": "LayoutView",
                            "align_content": null,
                            "align_items": null,
                            "align_self": null,
                            "border": null,
                            "bottom": null,
                            "display": null,
                            "flex": null,
                            "flex_flow": null,
                            "grid_area": null,
                            "grid_auto_columns": null,
                            "grid_auto_flow": null,
                            "grid_auto_rows": null,
                            "grid_column": null,
                            "grid_gap": null,
                            "grid_row": null,
                            "grid_template_areas": null,
                            "grid_template_columns": null,
                            "grid_template_rows": null,
                            "height": null,
                            "justify_content": null,
                            "justify_items": null,
                            "left": null,
                            "margin": null,
                            "max_height": null,
                            "max_width": null,
                            "min_height": null,
                            "min_width": null,
                            "object_fit": null,
                            "object_position": null,
                            "order": null,
                            "overflow": null,
                            "overflow_x": null,
                            "overflow_y": null,
                            "padding": null,
                            "right": null,
                            "top": null,
                            "visibility": null,
                            "width": null
                        }
                    },
                    "3aa67247d1a9433f87b13ce1370c8b1c": {
                        "model_module": "@jupyter-widgets/base",
                        "model_module_version": "1.2.0",
                        "model_name": "LayoutModel",
                        "state": {
                            "_model_module": "@jupyter-widgets/base",
                            "_model_module_version": "1.2.0",
                            "_model_name": "LayoutModel",
                            "_view_count": null,
                            "_view_module": "@jupyter-widgets/base",
                            "_view_module_version": "1.2.0",
                            "_view_name": "LayoutView",
                            "align_content": null,
                            "align_items": null,
                            "align_self": null,
                            "border": null,
                            "bottom": null,
                            "display": null,
                            "flex": null,
                            "flex_flow": null,
                            "grid_area": null,
                            "grid_auto_columns": null,
                            "grid_auto_flow": null,
                            "grid_auto_rows": null,
                            "grid_column": null,
                            "grid_gap": null,
                            "grid_row": null,
                            "grid_template_areas": null,
                            "grid_template_columns": null,
                            "grid_template_rows": null,
                            "height": null,
                            "justify_content": null,
                            "justify_items": null,
                            "left": null,
                            "margin": null,
                            "max_height": null,
                            "max_width": null,
                            "min_height": null,
                            "min_width": null,
                            "object_fit": null,
                            "object_position": null,
                            "order": null,
                            "overflow": null,
                            "overflow_x": null,
                            "overflow_y": null,
                            "padding": null,
                            "right": null,
                            "top": null,
                            "visibility": null,
                            "width": "190px"
                        }
                    },
                    "40a8f99fef5b4aad89f533edcb091c3f": {
                        "model_module": "@jupyter-widgets/controls",
                        "model_module_version": "1.5.0",
                        "model_name": "ButtonStyleModel",
                        "state": {
                            "_model_module": "@jupyter-widgets/controls",
                            "_model_module_version": "1.5.0",
                            "_model_name": "ButtonStyleModel",
                            "_view_count": null,
                            "_view_module": "@jupyter-widgets/base",
                            "_view_module_version": "1.2.0",
                            "_view_name": "StyleView",
                            "button_color": null,
                            "font_weight": ""
                        }
                    },
                    "46f75da5f7ab4f33b4df8618ccffde6b": {
                        "model_module": "@jupyter-widgets/controls",
                        "model_module_version": "1.5.0",
                        "model_name": "DescriptionStyleModel",
                        "state": {
                            "_model_module": "@jupyter-widgets/controls",
                            "_model_module_version": "1.5.0",
                            "_model_name": "DescriptionStyleModel",
                            "_view_count": null,
                            "_view_module": "@jupyter-widgets/base",
                            "_view_module_version": "1.2.0",
                            "_view_name": "StyleView",
                            "description_width": ""
                        }
                    },
                    "5ff6f36eaa894a339210fc29fdbeedcf": {
                        "model_module": "@jupyter-widgets/controls",
                        "model_module_version": "1.5.0",
                        "model_name": "HTMLModel",
                        "state": {
                            "_dom_classes": [],
                            "_model_module": "@jupyter-widgets/controls",
                            "_model_module_version": "1.5.0",
                            "_model_name": "HTMLModel",
                            "_view_count": null,
                            "_view_module": "@jupyter-widgets/controls",
                            "_view_module_version": "1.5.0",
                            "_view_name": "HTMLView",
                            "description": "",
                            "description_tooltip": null,
                            "layout": "IPY_MODEL_9e036ff6f31e4efb9471d371db06f533",
                            "placeholder": "​",
                            "style": "IPY_MODEL_1a46e33438a648dd839fe5fd43b9582b",
                            "value": "<h5>Backend</h5>"
                        }
                    },
                    "608e06da96f840e890006ad286afc34b": {
                        "model_module": "@jupyter-widgets/controls",
                        "model_module_version": "1.5.0",
                        "model_name": "HTMLModel",
                        "state": {
                            "_dom_classes": [],
                            "_model_module": "@jupyter-widgets/controls",
                            "_model_module_version": "1.5.0",
                            "_model_name": "HTMLModel",
                            "_view_count": null,
                            "_view_module": "@jupyter-widgets/controls",
                            "_view_module_version": "1.5.0",
                            "_view_name": "HTMLView",
                            "description": "",
                            "description_tooltip": null,
                            "layout": "IPY_MODEL_74038cd5fbe8491ba5457f6cc81f7b5a",
                            "placeholder": "​",
                            "style": "IPY_MODEL_8569084253df4279b752a85c0b99027b",
                            "value": "<p style='font-family: IBM Plex Sans, Arial, Helvetica, sans-serif; font-size: 20px; font-weight: medium;'>Circuit Properties</p>"
                        }
                    },
                    "74038cd5fbe8491ba5457f6cc81f7b5a": {
                        "model_module": "@jupyter-widgets/base",
                        "model_module_version": "1.2.0",
                        "model_name": "LayoutModel",
                        "state": {
                            "_model_module": "@jupyter-widgets/base",
                            "_model_module_version": "1.2.0",
                            "_model_name": "LayoutModel",
                            "_view_count": null,
                            "_view_module": "@jupyter-widgets/base",
                            "_view_module_version": "1.2.0",
                            "_view_name": "LayoutView",
                            "align_content": null,
                            "align_items": null,
                            "align_self": null,
                            "border": null,
                            "bottom": null,
                            "display": null,
                            "flex": null,
                            "flex_flow": null,
                            "grid_area": null,
                            "grid_auto_columns": null,
                            "grid_auto_flow": null,
                            "grid_auto_rows": null,
                            "grid_column": null,
                            "grid_gap": null,
                            "grid_row": null,
                            "grid_template_areas": null,
                            "grid_template_columns": null,
                            "grid_template_rows": null,
                            "height": null,
                            "justify_content": null,
                            "justify_items": null,
                            "left": null,
                            "margin": "0px 0px 10px 0px",
                            "max_height": null,
                            "max_width": null,
                            "min_height": null,
                            "min_width": null,
                            "object_fit": null,
                            "object_position": null,
                            "order": null,
                            "overflow": null,
                            "overflow_x": null,
                            "overflow_y": null,
                            "padding": null,
                            "right": null,
                            "top": null,
                            "visibility": null,
                            "width": null
                        }
                    },
                    "8569084253df4279b752a85c0b99027b": {
                        "model_module": "@jupyter-widgets/controls",
                        "model_module_version": "1.5.0",
                        "model_name": "DescriptionStyleModel",
                        "state": {
                            "_model_module": "@jupyter-widgets/controls",
                            "_model_module_version": "1.5.0",
                            "_model_name": "DescriptionStyleModel",
                            "_view_count": null,
                            "_view_module": "@jupyter-widgets/base",
                            "_view_module_version": "1.2.0",
                            "_view_name": "StyleView",
                            "description_width": ""
                        }
                    },
                    "917c693fd8d84f2e99f59d75cd5062c2": {
                        "model_module": "@jupyter-widgets/controls",
                        "model_module_version": "1.5.0",
                        "model_name": "GridBoxModel",
                        "state": {
                            "_dom_classes": [],
                            "_model_module": "@jupyter-widgets/controls",
                            "_model_module_version": "1.5.0",
                            "_model_name": "GridBoxModel",
                            "_view_count": null,
                            "_view_module": "@jupyter-widgets/controls",
                            "_view_module_version": "1.5.0",
                            "_view_name": "GridBoxView",
                            "box_style": "",
                            "children": [
                                "IPY_MODEL_b7e87c3bbc404502ab1550d64f86c473"
                            ],
                            "layout": "IPY_MODEL_1f812fe9a02b41b885f01e3190957acf"
                        }
                    },
                    "96316857896d44328b3898d849594ae7": {
                        "model_module": "@jupyter-widgets/controls",
                        "model_module_version": "1.5.0",
                        "model_name": "DescriptionStyleModel",
                        "state": {
                            "_model_module": "@jupyter-widgets/controls",
                            "_model_module_version": "1.5.0",
                            "_model_name": "DescriptionStyleModel",
                            "_view_count": null,
                            "_view_module": "@jupyter-widgets/base",
                            "_view_module_version": "1.2.0",
                            "_view_name": "StyleView",
                            "description_width": ""
                        }
                    },
                    "9e036ff6f31e4efb9471d371db06f533": {
                        "model_module": "@jupyter-widgets/base",
                        "model_module_version": "1.2.0",
                        "model_name": "LayoutModel",
                        "state": {
                            "_model_module": "@jupyter-widgets/base",
                            "_model_module_version": "1.2.0",
                            "_model_name": "LayoutModel",
                            "_view_count": null,
                            "_view_module": "@jupyter-widgets/base",
                            "_view_module_version": "1.2.0",
                            "_view_name": "LayoutView",
                            "align_content": null,
                            "align_items": null,
                            "align_self": null,
                            "border": null,
                            "bottom": null,
                            "display": null,
                            "flex": null,
                            "flex_flow": null,
                            "grid_area": null,
                            "grid_auto_columns": null,
                            "grid_auto_flow": null,
                            "grid_auto_rows": null,
                            "grid_column": null,
                            "grid_gap": null,
                            "grid_row": null,
                            "grid_template_areas": null,
                            "grid_template_columns": null,
                            "grid_template_rows": null,
                            "height": null,
                            "justify_content": null,
                            "justify_items": null,
                            "left": null,
                            "margin": null,
                            "max_height": null,
                            "max_width": null,
                            "min_height": null,
                            "min_width": null,
                            "object_fit": null,
                            "object_position": null,
                            "order": null,
                            "overflow": null,
                            "overflow_x": null,
                            "overflow_y": null,
                            "padding": null,
                            "right": null,
                            "top": null,
                            "visibility": null,
                            "width": "145px"
                        }
                    },
                    "a38db3ffdfc848c0b0150e42b3509be5": {
                        "model_module": "@jupyter-widgets/controls",
                        "model_module_version": "1.5.0",
                        "model_name": "HTMLModel",
                        "state": {
                            "_dom_classes": [],
                            "_model_module": "@jupyter-widgets/controls",
                            "_model_module_version": "1.5.0",
                            "_model_name": "HTMLModel",
                            "_view_count": null,
                            "_view_module": "@jupyter-widgets/controls",
                            "_view_module_version": "1.5.0",
                            "_view_name": "HTMLView",
                            "description": "",
                            "description_tooltip": null,
                            "layout": "IPY_MODEL_2f981df37e914685992f4564103ef872",
                            "placeholder": "​",
                            "style": "IPY_MODEL_246d39f98fdb4892bc1d5bfb88d2f1cd",
                            "value": "<h5>Message</h5>"
                        }
                    },
                    "ac5a0f78ef8140a2abdf035fd1751936": {
                        "model_module": "@jupyter-widgets/controls",
                        "model_module_version": "1.5.0",
                        "model_name": "HTMLModel",
                        "state": {
                            "_dom_classes": [],
                            "_model_module": "@jupyter-widgets/controls",
                            "_model_module_version": "1.5.0",
                            "_model_name": "HTMLModel",
                            "_view_count": null,
                            "_view_module": "@jupyter-widgets/controls",
                            "_view_module_version": "1.5.0",
                            "_view_name": "HTMLView",
                            "description": "",
                            "description_tooltip": null,
                            "layout": "IPY_MODEL_3aa67247d1a9433f87b13ce1370c8b1c",
                            "placeholder": "​",
                            "style": "IPY_MODEL_46f75da5f7ab4f33b4df8618ccffde6b",
                            "value": "<h5>Job ID</h5>"
                        }
                    },
                    "b7e87c3bbc404502ab1550d64f86c473": {
                        "model_module": "@jupyter-widgets/controls",
                        "model_module_version": "1.5.0",
                        "model_name": "ButtonModel",
                        "state": {
                            "_dom_classes": [],
                            "_model_module": "@jupyter-widgets/controls",
                            "_model_module_version": "1.5.0",
                            "_model_name": "ButtonModel",
                            "_view_count": null,
                            "_view_module": "@jupyter-widgets/controls",
                            "_view_module_version": "1.5.0",
                            "_view_name": "ButtonView",
                            "button_style": "primary",
                            "description": "Clear",
                            "disabled": false,
                            "icon": "",
                            "layout": "IPY_MODEL_f6a39516121743099bece32bc0c3c696",
                            "style": "IPY_MODEL_40a8f99fef5b4aad89f533edcb091c3f",
                            "tooltip": ""
                        }
                    },
                    "eef64edafd8f47c885da65fa3ca0ab8a": {
                        "model_module": "@jupyter-widgets/controls",
                        "model_module_version": "1.5.0",
                        "model_name": "HTMLModel",
                        "state": {
                            "_dom_classes": [],
                            "_model_module": "@jupyter-widgets/controls",
                            "_model_module_version": "1.5.0",
                            "_model_name": "HTMLModel",
                            "_view_count": null,
                            "_view_module": "@jupyter-widgets/controls",
                            "_view_module_version": "1.5.0",
                            "_view_name": "HTMLView",
                            "description": "",
                            "description_tooltip": null,
                            "layout": "IPY_MODEL_ef270ca07615429ab689824b66fdb1ff",
                            "placeholder": "​",
                            "style": "IPY_MODEL_17046f96803d48aa8c63b99a5c89e6f3",
                            "value": "<h5>Queue</h5>"
                        }
                    },
                    "ef270ca07615429ab689824b66fdb1ff": {
                        "model_module": "@jupyter-widgets/base",
                        "model_module_version": "1.2.0",
                        "model_name": "LayoutModel",
                        "state": {
                            "_model_module": "@jupyter-widgets/base",
                            "_model_module_version": "1.2.0",
                            "_model_name": "LayoutModel",
                            "_view_count": null,
                            "_view_module": "@jupyter-widgets/base",
                            "_view_module_version": "1.2.0",
                            "_view_name": "LayoutView",
                            "align_content": null,
                            "align_items": null,
                            "align_self": null,
                            "border": null,
                            "bottom": null,
                            "display": null,
                            "flex": null,
                            "flex_flow": null,
                            "grid_area": null,
                            "grid_auto_columns": null,
                            "grid_auto_flow": null,
                            "grid_auto_rows": null,
                            "grid_column": null,
                            "grid_gap": null,
                            "grid_row": null,
                            "grid_template_areas": null,
                            "grid_template_columns": null,
                            "grid_template_rows": null,
                            "height": null,
                            "justify_content": null,
                            "justify_items": null,
                            "left": null,
                            "margin": null,
                            "max_height": null,
                            "max_width": null,
                            "min_height": null,
                            "min_width": null,
                            "object_fit": null,
                            "object_position": null,
                            "order": null,
                            "overflow": null,
                            "overflow_x": null,
                            "overflow_y": null,
                            "padding": null,
                            "right": null,
                            "top": null,
                            "visibility": null,
                            "width": "70px"
                        }
                    },
                    "f0e6a746eff140269e915ef65de640c7": {
                        "model_module": "@jupyter-widgets/base",
                        "model_module_version": "1.2.0",
                        "model_name": "LayoutModel",
                        "state": {
                            "_model_module": "@jupyter-widgets/base",
                            "_model_module_version": "1.2.0",
                            "_model_name": "LayoutModel",
                            "_view_count": null,
                            "_view_module": "@jupyter-widgets/base",
                            "_view_module_version": "1.2.0",
                            "_view_name": "LayoutView",
                            "align_content": null,
                            "align_items": null,
                            "align_self": null,
                            "border": null,
                            "bottom": null,
                            "display": null,
                            "flex": null,
                            "flex_flow": null,
                            "grid_area": null,
                            "grid_auto_columns": null,
                            "grid_auto_flow": null,
                            "grid_auto_rows": null,
                            "grid_column": null,
                            "grid_gap": null,
                            "grid_row": null,
                            "grid_template_areas": null,
                            "grid_template_columns": null,
                            "grid_template_rows": null,
                            "height": null,
                            "justify_content": null,
                            "justify_items": null,
                            "left": null,
                            "margin": null,
                            "max_height": null,
                            "max_width": null,
                            "min_height": null,
                            "min_width": null,
                            "object_fit": null,
                            "object_position": null,
                            "order": null,
                            "overflow": null,
                            "overflow_x": null,
                            "overflow_y": null,
                            "padding": null,
                            "right": null,
                            "top": null,
                            "visibility": null,
                            "width": "95px"
                        }
                    },
                    "f6a39516121743099bece32bc0c3c696": {
                        "model_module": "@jupyter-widgets/base",
                        "model_module_version": "1.2.0",
                        "model_name": "LayoutModel",
                        "state": {
                            "_model_module": "@jupyter-widgets/base",
                            "_model_module_version": "1.2.0",
                            "_model_name": "LayoutModel",
                            "_view_count": null,
                            "_view_module": "@jupyter-widgets/base",
                            "_view_module_version": "1.2.0",
                            "_view_name": "LayoutView",
                            "align_content": null,
                            "align_items": null,
                            "align_self": null,
                            "border": null,
                            "bottom": null,
                            "display": null,
                            "flex": null,
                            "flex_flow": null,
                            "grid_area": "right",
                            "grid_auto_columns": null,
                            "grid_auto_flow": null,
                            "grid_auto_rows": null,
                            "grid_column": null,
                            "grid_gap": null,
                            "grid_row": null,
                            "grid_template_areas": null,
                            "grid_template_columns": null,
                            "grid_template_rows": null,
                            "height": null,
                            "justify_content": null,
                            "justify_items": null,
                            "left": null,
                            "margin": null,
                            "max_height": null,
                            "max_width": null,
                            "min_height": null,
                            "min_width": null,
                            "object_fit": null,
                            "object_position": null,
                            "order": null,
                            "overflow": null,
                            "overflow_x": null,
                            "overflow_y": null,
                            "padding": "0px 0px 0px 0px",
                            "right": null,
                            "top": null,
                            "visibility": null,
                            "width": "70px"
                        }
                    },
                    "fc018f99fbb44aa9beb54a8e6be5209e": {
                        "model_module": "@jupyter-widgets/base",
                        "model_module_version": "1.2.0",
                        "model_name": "LayoutModel",
                        "state": {
                            "_model_module": "@jupyter-widgets/base",
                            "_model_module_version": "1.2.0",
                            "_model_name": "LayoutModel",
                            "_view_count": null,
                            "_view_module": "@jupyter-widgets/base",
                            "_view_module_version": "1.2.0",
                            "_view_name": "LayoutView",
                            "align_content": null,
                            "align_items": null,
                            "align_self": null,
                            "border": null,
                            "bottom": null,
                            "display": null,
                            "flex": null,
                            "flex_flow": null,
                            "grid_area": null,
                            "grid_auto_columns": null,
                            "grid_auto_flow": null,
                            "grid_auto_rows": null,
                            "grid_column": null,
                            "grid_gap": null,
                            "grid_row": null,
                            "grid_template_areas": null,
                            "grid_template_columns": null,
                            "grid_template_rows": null,
                            "height": null,
                            "justify_content": null,
                            "justify_items": null,
                            "left": null,
                            "margin": "0px 0px 0px 37px",
                            "max_height": null,
                            "max_width": null,
                            "min_height": null,
                            "min_width": null,
                            "object_fit": null,
                            "object_position": null,
                            "order": null,
                            "overflow": null,
                            "overflow_x": null,
                            "overflow_y": null,
                            "padding": null,
                            "right": null,
                            "top": null,
                            "visibility": null,
                            "width": "600px"
                        }
                    }
                },
                "version_major": 2,
                "version_minor": 0
            }
        }
    },
    "nbformat": 4,
    "nbformat_minor": 2
}
